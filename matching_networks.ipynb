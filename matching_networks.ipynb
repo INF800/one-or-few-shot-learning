{
  "nbformat": 4,
  "nbformat_minor": 0,
  "metadata": {
    "colab": {
      "name": "matching-networks.ipynb",
      "provenance": [],
      "authorship_tag": "ABX9TyPbpDwEQ4fw8uQcej2ShoV2",
      "include_colab_link": true
    },
    "kernelspec": {
      "name": "python3",
      "display_name": "Python 3"
    }
  },
  "cells": [
    {
      "cell_type": "markdown",
      "metadata": {
        "id": "view-in-github",
        "colab_type": "text"
      },
      "source": [
        "<a href=\"https://colab.research.google.com/github/rakesh4real/one-or-few-shot-learning/blob/main/matching_networks.ipynb\" target=\"_parent\"><img src=\"https://colab.research.google.com/assets/colab-badge.svg\" alt=\"Open In Colab\"/></a>"
      ]
    },
    {
      "cell_type": "code",
      "metadata": {
        "id": "bvhgFTGFTg2B"
      },
      "source": [
        "import math, tqdm\n",
        "import numpy as np\n",
        "import matplotlib.pyplot as plt\n",
        "\n",
        "import torch\n",
        "import torch.nn as nn\n",
        "import torch.nn.functional as F\n",
        "from torch.optim.lr_scheduler import ReduceLROnPlateau"
      ],
      "execution_count": 1,
      "outputs": []
    },
    {
      "cell_type": "code",
      "metadata": {
        "id": "bd-Efpi4UvYc",
        "outputId": "7c3edb75-cba5-4255-99eb-121af3c2dc94",
        "colab": {
          "base_uri": "https://localhost:8080/"
        }
      },
      "source": [
        "!curl -O https://raw.githubusercontent.com/PacktPublishing/Hands-On-One-shot-Learning-with-Python/master/Chapter02/data/data.npy"
      ],
      "execution_count": 4,
      "outputs": [
        {
          "output_type": "stream",
          "text": [
            "  % Total    % Received % Xferd  Average Speed   Time    Time     Time  Current\n",
            "                                 Dload  Upload   Total   Spent    Left  Speed\n",
            "100 24.2M  100 24.2M    0     0  22.8M      0  0:00:01  0:00:01 --:--:-- 22.8M\n"
          ],
          "name": "stdout"
        }
      ]
    },
    {
      "cell_type": "code",
      "metadata": {
        "id": "Wzh60z4xT00d",
        "outputId": "6f1834fe-85d4-491f-ba86-afa6ddf2745f",
        "colab": {
          "base_uri": "https://localhost:8080/"
        }
      },
      "source": [
        "x = np.load('data.npy') # Load Data\n",
        "print (x.shape)\n",
        "print (type(x))\n",
        "x = np.reshape(x, newshape=(x.shape[0], x.shape[1], 28, 28, 1)) # expand dimension from (x.shape[0],x.shape[1],28,28)\n",
        "np.random.shuffle(x) # shuffle dataset\n",
        "x_train, x_val, x_test = x[:1200], x[1200:1411], x[1411:] # divide dataset in to train, val,ctest\n",
        "batch_size = 16 # setting batch_size\n",
        "n_classes = x.shape[0] # total number of classes\n",
        "classes_per_set = 20 # Number of classes per set\n",
        "samples_per_class = 1 # as we are choosing it to be one shot learning, so we have 1 sample\n",
        "print (x_train.shape)"
      ],
      "execution_count": 5,
      "outputs": [
        {
          "output_type": "stream",
          "text": [
            "(1623, 20, 28, 28)\n",
            "<class 'numpy.ndarray'>\n",
            "(1200, 20, 28, 28, 1)\n"
          ],
          "name": "stdout"
        }
      ]
    },
    {
      "cell_type": "code",
      "metadata": {
        "id": "_QC-winLU01U"
      },
      "source": [
        "def processes_batch(data, mu, sigma):\n",
        "    return (data - mu) / sigma\n",
        "\n",
        "# Normalize Dataset\n",
        "x_train = processes_batch(x_train, np.mean(x_train), np.std(x_train))\n",
        "x_val = processes_batch(x_val, np.mean(x_val), np.std(x_val))\n",
        "x_test = processes_batch(x_test, np.mean(x_test), np.std(x_test))\n",
        "\n",
        "# Defining dictionary of dataset\n",
        "datatset = {\"train\": x_train, \"val\": x_val, \"test\": x_test}"
      ],
      "execution_count": 6,
      "outputs": []
    },
    {
      "cell_type": "code",
      "metadata": {
        "id": "0OhLMITSVP5z",
        "outputId": "796ee9c8-d04e-478b-cbc7-0edc9bfb17b3",
        "colab": {
          "base_uri": "https://localhost:8080/",
          "height": 1000
        }
      },
      "source": [
        "temp = x_train[0,:,:,:,:]  \n",
        "for i in range(0,20):\n",
        "    plt.figure()\n",
        "    plt.imshow(temp[i,:,:,0])"
      ],
      "execution_count": 7,
      "outputs": [
        {
          "output_type": "display_data",
          "data": {
            "image/png": "[encoded data removed]",
            "text/plain": [
              "<Figure size 432x288 with 1 Axes>"
            ]
          },
          "metadata": {
            "tags": [],
            "needs_background": "light"
          }
        },
        {
          "output_type": "display_data",
          "data": {
            "image/png": "[encoded data removed]",
            "text/plain": [
              "<Figure size 432x288 with 1 Axes>"
            ]
          },
          "metadata": {
            "tags": [],
            "needs_background": "light"
          }
        },
        {
          "output_type": "display_data",
          "data": {
            "image/png": "[encoded data removed]",
            "text/plain": [
              "<Figure size 432x288 with 1 Axes>"
            ]
          },
          "metadata": {
            "tags": [],
            "needs_background": "light"
          }
        },
        {
          "output_type": "display_data",
          "data": {
            "image/png": "[encoded data removed]",
            "text/plain": [
              "<Figure size 432x288 with 1 Axes>"
            ]
          },
          "metadata": {
            "tags": [],
            "needs_background": "light"
          }
        },
        {
          "output_type": "display_data",
          "data": {
            "image/png": "[encoded data removed]",
            "text/plain": [
              "<Figure size 432x288 with 1 Axes>"
            ]
          },
          "metadata": {
            "tags": [],
            "needs_background": "light"
          }
        },
        {
          "output_type": "display_data",
          "data": {
            "image/png": "[encoded data removed]",
            "text/plain": [
              "<Figure size 432x288 with 1 Axes>"
            ]
          },
          "metadata": {
            "tags": [],
            "needs_background": "light"
          }
        },
        {
          "output_type": "display_data",
          "data": {
            "image/png": "[encoded data removed]",
            "text/plain": [
              "<Figure size 432x288 with 1 Axes>"
            ]
          },
          "metadata": {
            "tags": [],
            "needs_background": "light"
          }
        },
        {
          "output_type": "display_data",
          "data": {
            "image/png": "[encoded data removed]",
            "text/plain": [
              "<Figure size 432x288 with 1 Axes>"
            ]
          },
          "metadata": {
            "tags": [],
            "needs_background": "light"
          }
        },
        {
          "output_type": "display_data",
          "data": {
            "image/png": "[encoded data removed]",
            "text/plain": [
              "<Figure size 432x288 with 1 Axes>"
            ]
          },
          "metadata": {
            "tags": [],
            "needs_background": "light"
          }
        },
        {
          "output_type": "display_data",
          "data": {
            "image/png": "[encoded data removed]",
            "text/plain": [
              "<Figure size 432x288 with 1 Axes>"
            ]
          },
          "metadata": {
            "tags": [],
            "needs_background": "light"
          }
        },
        {
          "output_type": "display_data",
          "data": {
            "image/png": "[encoded data removed]",
            "text/plain": [
              "<Figure size 432x288 with 1 Axes>"
            ]
          },
          "metadata": {
            "tags": [],
            "needs_background": "light"
          }
        },
        {
          "output_type": "display_data",
          "data": {
            "image/png": "[encoded data removed]",
            "text/plain": [
              "<Figure size 432x288 with 1 Axes>"
            ]
          },
          "metadata": {
            "tags": [],
            "needs_background": "light"
          }
        },
        {
          "output_type": "display_data",
          "data": {
            "image/png": "[encoded data removed]",
            "text/plain": [
              "<Figure size 432x288 with 1 Axes>"
            ]
          },
          "metadata": {
            "tags": [],
            "needs_background": "light"
          }
        },
        {
          "output_type": "display_data",
          "data": {
            "image/png": "[encoded data removed]",
            "text/plain": [
              "<Figure size 432x288 with 1 Axes>"
            ]
          },
          "metadata": {
            "tags": [],
            "needs_background": "light"
          }
        },
        {
          "output_type": "display_data",
          "data": {
            "image/png": "[encoded data removed]",
            "text/plain": [
              "<Figure size 432x288 with 1 Axes>"
            ]
          },
          "metadata": {
            "tags": [],
            "needs_background": "light"
          }
        },
        {
          "output_type": "display_data",
          "data": {
            "image/png": "[encoded data removed]",
            "text/plain": [
              "<Figure size 432x288 with 1 Axes>"
            ]
          },
          "metadata": {
            "tags": [],
            "needs_background": "light"
          }
        },
        {
          "output_type": "display_data",
          "data": {
            "image/png": "[encoded data removed]",
            "text/plain": [
              "<Figure size 432x288 with 1 Axes>"
            ]
          },
          "metadata": {
            "tags": [],
            "needs_background": "light"
          }
        },
        {
          "output_type": "display_data",
          "data": {
            "image/png": "[encoded data removed]",
            "text/plain": [
              "<Figure size 432x288 with 1 Axes>"
            ]
          },
          "metadata": {
            "tags": [],
            "needs_background": "light"
          }
        },
        {
          "output_type": "display_data",
          "data": {
            "image/png": "[encoded data removed]",
            "text/plain": [
              "<Figure size 432x288 with 1 Axes>"
            ]
          },
          "metadata": {
            "tags": [],
            "needs_background": "light"
          }
        },
        {
          "output_type": "display_data",
          "data": {
            "image/png": "[encoded data removed]",
            "text/plain": [
              "<Figure size 432x288 with 1 Axes>"
            ]
          },
          "metadata": {
            "tags": [],
            "needs_background": "light"
          }
        }
      ]
    },
    {
      "cell_type": "code",
      "metadata": {
        "id": "SqZL554NVU-n"
      },
      "source": [
        "def sample_batch(data):\n",
        "        \"\"\"\n",
        "        Generates sample batch \n",
        "        :param : data - one of(train,test,val) our current dataset shape [total_classes,20,28,28,1]\n",
        "        :return: [support_set_x,support_set_y,target_x,target_y] for Matching Networks\n",
        "        \"\"\"\n",
        "        support_set_x = np.zeros((batch_size, classes_per_set, samples_per_class, data.shape[2],\n",
        "                                  data.shape[3], data.shape[4]), np.float32)\n",
        "        support_set_y = np.zeros((batch_size, classes_per_set, samples_per_class), np.int32)\n",
        "        \n",
        "        target_x = np.zeros((batch_size, data.shape[2], data.shape[3], data.shape[4]), np.float32)\n",
        "        target_y = np.zeros((batch_size, 1), np.int32)\n",
        "        for i in range(batch_size):\n",
        "            choose_classes = np.random.choice(data.shape[0], size=classes_per_set, replace=False) # choosing random classes\n",
        "            choose_label = np.random.choice(classes_per_set, size=1) # label set\n",
        "            choose_samples = np.random.choice(data.shape[1], size=samples_per_class + 1, replace=False)\n",
        "            x_temp = data[choose_classes] # choosing classes\n",
        "            x_temp = x_temp[:, choose_samples] # choosing sample batch from classes chosen outputs 20X2X28X28X1\n",
        "            y_temp = np.arange(classes_per_set) # will return [0,1,2,3,...,19]\n",
        "            support_set_x[i] = x_temp[:, :-1]\n",
        "            support_set_y[i] = np.expand_dims(y_temp[:], axis=1) # expand dimension\n",
        "            target_x[i] = x_temp[choose_label, -1]\n",
        "            target_y[i] = y_temp[choose_label]\n",
        "        return support_set_x, support_set_y, target_x, target_y # returns support of [batch_size, 20 classes per set, 1 sample, 28, 28,1]\n",
        "    \n",
        "def get_batch(dataset_name):\n",
        "        \"\"\"\n",
        "        gen batch while training\n",
        "        :param dataset_name: The name of dataset(one of \"train\",\"val\",\"test\")\n",
        "        :return: a batch images\n",
        "        \"\"\"\n",
        "        support_set_x, support_set_y, target_x, target_y = sample_batch(datatset[dataset_name])\n",
        "        support_set_x = support_set_x.reshape((support_set_x.shape[0], support_set_x.shape[1] * support_set_x.shape[2],\n",
        "                                               support_set_x.shape[3], support_set_x.shape[4], support_set_x.shape[5]))\n",
        "        support_set_y = support_set_y.reshape(support_set_y.shape[0], support_set_y.shape[1] * support_set_y.shape[2])\n",
        "        return support_set_x, support_set_y, target_x, target_y"
      ],
      "execution_count": 9,
      "outputs": []
    },
    {
      "cell_type": "code",
      "metadata": {
        "id": "69NwDN5RVcpY"
      },
      "source": [
        "\n",
        "def convLayer(in_channels, out_channels, dropout_prob=0.0):\n",
        "    \"\"\"\n",
        "    :param dataset_name: The name of dataset(one of \"train\",\"val\",\"test\")\n",
        "    :return: a batch images\n",
        "    \"\"\"\n",
        "    cnn_seq = nn.Sequential(\n",
        "        nn.Conv2d(in_channels, out_channels, 3, 1, 1),\n",
        "        nn.ReLU(True),\n",
        "        nn.BatchNorm2d(out_channels),\n",
        "        nn.MaxPool2d(kernel_size=2, stride=2),\n",
        "        nn.Dropout(dropout_prob)\n",
        "    )\n",
        "    return cnn_seq\n",
        "\n",
        "class Embeddings_extractor(nn.Module):\n",
        "    def __init__(self, layer_size=64, num_channels=1, dropout_prob=0.5, image_size=28):\n",
        "        super(Embeddings_extractor, self).__init__()\n",
        "        \"\"\"\n",
        "        Build a CNN to produce embeddings\n",
        "        :param layer_size:64(default)\n",
        "        :param num_channels:\n",
        "        :param keep_prob:\n",
        "        :param image_size:\n",
        "        \"\"\"\n",
        "        self.layer1 = convLayer(num_channels, layer_size, dropout_prob)\n",
        "        self.layer2 = convLayer(layer_size, layer_size, dropout_prob)\n",
        "        self.layer3 = convLayer(layer_size, layer_size, dropout_prob)\n",
        "        self.layer4 = convLayer(layer_size, layer_size, dropout_prob)\n",
        "\n",
        "        finalSize = int(math.floor(image_size / (2 * 2 * 2 * 2)))\n",
        "        self.outSize = finalSize * finalSize * layer_size\n",
        "\n",
        "    def forward(self, image_input):\n",
        "        \"\"\"\n",
        "        :param: Image\n",
        "        :return: embeddings\n",
        "        \"\"\"\n",
        "        x = self.layer1(image_input)\n",
        "        x = self.layer2(x)\n",
        "        x = self.layer3(x)\n",
        "        x = self.layer4(x)\n",
        "        x = x.view(x.size()[0], -1)\n",
        "        return x"
      ],
      "execution_count": 10,
      "outputs": []
    },
    {
      "cell_type": "code",
      "metadata": {
        "id": "XCpgfG7XVjNk"
      },
      "source": [
        "\n",
        "class AttentionalClassify(nn.Module):\n",
        "    def __init__(self):\n",
        "        super(AttentionalClassify, self).__init__()\n",
        "\n",
        "    def forward(self, similarities, support_set_y):\n",
        "        \"\"\"\n",
        "        Products pdfs over the support set classes for the target set image.\n",
        "        :param similarities: A tensor with cosine similarites of size[batch_size,sequence_length]\n",
        "        :param support_set_y:[batch_size,sequence_length,classes_num]\n",
        "        :return: Softmax pdf shape[batch_size,classes_num]\n",
        "        \"\"\"\n",
        "        softmax = nn.Softmax(dim=1)\n",
        "        softmax_similarities = softmax(similarities)\n",
        "        preds = softmax_similarities.unsqueeze(1).bmm(support_set_y).squeeze()\n",
        "        return preds"
      ],
      "execution_count": 11,
      "outputs": []
    },
    {
      "cell_type": "code",
      "metadata": {
        "id": "fCq6TjacVl-q"
      },
      "source": [
        "class DistanceNetwork(nn.Module):\n",
        "    \"\"\"\n",
        "    This model calculates the cosine distance between each of the support set embeddings and \n",
        "    the target image embeddings.\n",
        "    \"\"\"\n",
        "\n",
        "    def __init__(self):\n",
        "        super(DistanceNetwork, self).__init__()\n",
        "\n",
        "    def forward(self, support_set, input_image):\n",
        "        \"\"\"\n",
        "        forward pass\n",
        "        :param support_set:the embeddings of the support set images.shape[sequence_length,batch_size,64]\n",
        "        :param input_image: the embedding of the target image,shape[batch_size,64]\n",
        "        :return:shape[batch_size,sequence_length]\n",
        "        \"\"\"\n",
        "        eps = 1e-10\n",
        "        similarities = []\n",
        "        for support_image in support_set:\n",
        "            sum_support = torch.sum(torch.pow(support_image, 2), 1)\n",
        "            support_manitude = sum_support.clamp(eps, float(\"inf\")).rsqrt()\n",
        "            dot_product = input_image.unsqueeze(1).bmm(support_image.unsqueeze(2)).squeeze()\n",
        "            cosine_similarity = dot_product * support_manitude\n",
        "            similarities.append(cosine_similarity)\n",
        "        similarities = torch.stack(similarities)\n",
        "        return similarities.t()"
      ],
      "execution_count": 12,
      "outputs": []
    },
    {
      "cell_type": "code",
      "metadata": {
        "id": "sTRbhPZ_Vo0I"
      },
      "source": [
        "\n",
        "class BidirectionalLSTM(nn.Module):\n",
        "    def __init__(self, layer_size, batch_size, vector_dim):\n",
        "        super(BidirectionalLSTM, self).__init__()\n",
        "        \"\"\"\n",
        "        Initial a muti-layer Bidirectional LSTM\n",
        "        :param layer_size: a list of each layer'size\n",
        "        :param batch_size: \n",
        "        :param vector_dim: \n",
        "        \"\"\"\n",
        "        self.batch_size = batch_size\n",
        "        self.hidden_size = layer_size[0]\n",
        "        self.vector_dim = vector_dim\n",
        "        self.num_layer = len(layer_size)\n",
        "        self.lstm = nn.LSTM(input_size=self.vector_dim, num_layers=self.num_layer, hidden_size=self.hidden_size,\n",
        "                            bidirectional=True)\n",
        "        self.hidden = (torch.zeros(self.lstm.num_layers * 2, self.batch_size, self.lstm.hidden_size),\n",
        "                torch.zeros(self.lstm.num_layers * 2, self.batch_size, self.lstm.hidden_size))\n",
        "\n",
        "    def repackage_hidden(self,h):\n",
        "        \"\"\"Wraps hidden states in new Variables, \n",
        "        to detach them from their history.\"\"\"\n",
        "        if type(h) == torch.Tensor:\n",
        "            return h.data\n",
        "        else:\n",
        "            return tuple(self.repackage_hidden(v) for v in h)\n",
        "        \n",
        "    def forward(self, inputs):\n",
        "        self.hidden = self.repackage_hidden(self.hidden)\n",
        "        output, self.hidden = self.lstm(inputs, self.hidden)\n",
        "        return output"
      ],
      "execution_count": 20,
      "outputs": []
    },
    {
      "cell_type": "code",
      "metadata": {
        "id": "bAb8ofBKVrRY"
      },
      "source": [
        "class MatchingNetwork(nn.Module):\n",
        "    def __init__(self, keep_prob, batch_size=32, num_channels=1, learning_rate=1e-3, fce=False, num_classes_per_set=20, \\\n",
        "                 num_samples_per_class=1, image_size=28):\n",
        "        \"\"\"\n",
        "        Matching Network\n",
        "        :param keep_prob: dropout rate\n",
        "        :param batch_size:\n",
        "        :param num_channels:\n",
        "        :param learning_rate:\n",
        "        :param fce: Flag indicating whether to use full context embeddings(i.e. apply an LSTM on the CNN embeddings)\n",
        "        :param num_classes_per_set:\n",
        "        :param num_samples_per_class:\n",
        "        :param image_size:\n",
        "        \"\"\"\n",
        "        super(MatchingNetwork, self).__init__()\n",
        "        self.batch_size = batch_size\n",
        "        self.keep_prob = keep_prob\n",
        "        self.num_channels = num_channels\n",
        "        self.learning_rate = learning_rate\n",
        "        self.num_classes_per_set = num_classes_per_set\n",
        "        self.num_samples_per_class = num_samples_per_class\n",
        "        self.image_size = image_size\n",
        "        # Let's set all peices of Matching Networks Architecture\n",
        "        self.g = Embeddings_extractor(layer_size=64, num_channels=num_channels, dropout_prob=keep_prob, image_size=image_size)\n",
        "        self.f = fce # if we are considering full-context embeddings\n",
        "        self.c = DistanceNetwork() # cosine distance among embeddings\n",
        "        self.a = AttentionalClassify() # softmax of cosine distance of embeddings\n",
        "        if self.f:\n",
        "            self.lstm = BidirectionalLSTM(layer_size=[32], batch_size=self.batch_size, vector_dim=self.g.outSize)\n",
        "\n",
        "    def forward(self, support_set_images, support_set_y_one_hot, target_image, target_y):\n",
        "        \"\"\"\n",
        "        Main process of the network\n",
        "        :param support_set_images: shape[batch_size,sequence_length,num_channels,image_size,image_size]\n",
        "        :param support_set_y_one_hot: shape[batch_size,sequence_length,num_classes_per_set]\n",
        "        :param target_image: shape[batch_size,num_channels,image_size,image_size]\n",
        "        :param target_y:\n",
        "        :return:\n",
        "        \"\"\"\n",
        "        # produce embeddings for support set images\n",
        "        encoded_images = []\n",
        "        for i in np.arange(support_set_images.size(1)):\n",
        "            gen_encode = self.g(support_set_images[:, i, :, :])\n",
        "            encoded_images.append(gen_encode)\n",
        "            \n",
        "        # produce embeddings for target images\n",
        "        gen_encode = self.g(target_image)\n",
        "        encoded_images.append(gen_encode)\n",
        "        output = torch.stack(encoded_images,dim=0)\n",
        "        \n",
        "        # if we are considering full-context embeddings\n",
        "        if self.f:\n",
        "            output = self.lstm(output)\n",
        "            \n",
        "        # get similarities between support set embeddings and target\n",
        "        similarites = self.c(support_set=output[:-1], input_image=output[-1])\n",
        "        \n",
        "        # produce predictions for target probabilities\n",
        "        preds = self.a(similarites, support_set_y=support_set_y_one_hot)\n",
        "        \n",
        "        # calculate the accuracy\n",
        "        values, indices = preds.max(1)\n",
        "        accuracy = torch.mean((indices.squeeze() == target_y).float())\n",
        "        crossentropy_loss = F.cross_entropy(preds, target_y.long())\n",
        "\n",
        "        return accuracy, crossentropy_loss"
      ],
      "execution_count": 21,
      "outputs": []
    },
    {
      "cell_type": "code",
      "metadata": {
        "id": "1bbrj9PRVw-I"
      },
      "source": [
        "\n",
        "def run_epoch(total_train_batches, name='train'):\n",
        "    \"\"\"\n",
        "    Run the training epoch\n",
        "    :param total_train_batches: Number of batches to train on\n",
        "    :return:\n",
        "    \"\"\"\n",
        "    total_c_loss = 0.0\n",
        "    total_accuracy = 0.0\n",
        "    for i in range(int(total_train_batches)):\n",
        "            x_support_set, y_support_set, x_target, y_target = get_batch(name)\n",
        "            x_support_set = torch.from_numpy(x_support_set).float()\n",
        "            y_support_set = torch.from_numpy(y_support_set).long()\n",
        "            x_target = torch.from_numpy(x_target).float()\n",
        "            y_target = torch.from_numpy(y_target).squeeze().long()\n",
        "\n",
        "            # convert to one hot encoding\n",
        "            y_support_set = y_support_set.unsqueeze(2)\n",
        "            sequence_length = y_support_set.size()[1]\n",
        "            batch_size = y_support_set.size()[0]\n",
        "            y_support_set_one_hot = torch.zeros(batch_size, sequence_length, \n",
        "                            classes_per_set).scatter_(2,y_support_set.data,1)\n",
        "\n",
        "            # reshape channels and change order\n",
        "            size = x_support_set.size()\n",
        "            x_support_set = x_support_set.permute(0, 1, 4, 2, 3)\n",
        "            x_target = x_target.permute(0, 3, 1, 2)\n",
        "            acc, c_loss = matchNet(x_support_set, y_support_set_one_hot, x_target, y_target)\n",
        "\n",
        "            # optimize process\n",
        "            optimizer.zero_grad()\n",
        "            c_loss.backward()\n",
        "            optimizer.step()\n",
        "\n",
        "            iter_out = \"tr_loss: {}, tr_accuracy: {}\".format(c_loss, acc)\n",
        "            total_c_loss += c_loss\n",
        "            total_accuracy += acc\n",
        "\n",
        "    total_c_loss = total_c_loss / total_train_batches\n",
        "    total_accuracy = total_accuracy / total_train_batches\n",
        "    return total_c_loss, total_accuracy"
      ],
      "execution_count": 22,
      "outputs": []
    },
    {
      "cell_type": "code",
      "metadata": {
        "id": "Pdl9iWKYV0nm"
      },
      "source": [
        "batch_size=20\n",
        "num_channels=1\n",
        "lr=1e-3\n",
        "image_size=28\n",
        "classes_per_set=20\n",
        "samples_per_class=1\n",
        "keep_prob=0.0\n",
        "fce=True\n",
        "optim=\"adam\"\n",
        "wd=0\n",
        "matchNet = MatchingNetwork(keep_prob, batch_size, num_channels, lr, fce, classes_per_set,\n",
        "                                samples_per_class, image_size)\n",
        "total_iter = 0\n",
        "total_train_iter = 0\n",
        "optimizer = torch.optim.Adam(matchNet.parameters(), lr=lr, weight_decay=wd)\n",
        "scheduler = ReduceLROnPlateau(optimizer, 'min',verbose=True)\n",
        "# Training setup\n",
        "total_epochs = 100\n",
        "total_train_batches = 10\n",
        "total_val_batches = 5\n",
        "total_test_batches = 5"
      ],
      "execution_count": 23,
      "outputs": []
    },
    {
      "cell_type": "code",
      "metadata": {
        "id": "t_tWua9PV36T",
        "outputId": "ccd7e194-6b58-4578-ba9b-4b3788328361",
        "colab": {
          "base_uri": "https://localhost:8080/",
          "height": 987
        }
      },
      "source": [
        "train_loss,train_accuracy=[],[]\n",
        "val_loss,val_accuracy=[],[]\n",
        "test_loss,test_accuracy=[],[]\n",
        "\n",
        "\n",
        "for e in range(total_epochs):\n",
        "    ############################### Training Step ##########################################\n",
        "    total_c_loss, total_accuracy = run_epoch(total_train_batches,'train')\n",
        "    train_loss.append(total_c_loss)\n",
        "    train_accuracy.append(total_accuracy)\n",
        "    \n",
        "    ################################# Validation Step #######################################\n",
        "    total_val_c_loss, total_val_accuracy = run_epoch(total_val_batches, 'val')\n",
        "    val_loss.append(total_val_c_loss)\n",
        "    val_accuracy.append(total_val_accuracy)\n",
        "    print(\"Epoch {}: train_loss:{:.2f} train_accuracy:{:.2f} valid_loss:{:.2f} valid_accuracy:{:.2f}\".\n",
        "          format(e, total_c_loss, total_accuracy, total_val_c_loss, total_val_accuracy))"
      ],
      "execution_count": 24,
      "outputs": [
        {
          "output_type": "stream",
          "text": [
            "Epoch 0: train_loss:2.98 train_accuracy:0.19 valid_loss:2.96 valid_accuracy:0.29\n",
            "Epoch 1: train_loss:2.95 train_accuracy:0.31 valid_loss:2.92 valid_accuracy:0.36\n",
            "Epoch 2: train_loss:2.92 train_accuracy:0.33 valid_loss:2.91 valid_accuracy:0.30\n",
            "Epoch 3: train_loss:2.90 train_accuracy:0.41 valid_loss:2.89 valid_accuracy:0.47\n",
            "Epoch 4: train_loss:2.86 train_accuracy:0.47 valid_loss:2.84 valid_accuracy:0.49\n",
            "Epoch 5: train_loss:2.84 train_accuracy:0.47 valid_loss:2.82 valid_accuracy:0.59\n",
            "Epoch 6: train_loss:2.83 train_accuracy:0.50 valid_loss:2.79 valid_accuracy:0.58\n",
            "Epoch 7: train_loss:2.79 train_accuracy:0.57 valid_loss:2.78 valid_accuracy:0.59\n",
            "Epoch 8: train_loss:2.81 train_accuracy:0.50 valid_loss:2.79 valid_accuracy:0.58\n",
            "Epoch 9: train_loss:2.76 train_accuracy:0.61 valid_loss:2.76 valid_accuracy:0.63\n",
            "Epoch 10: train_loss:2.76 train_accuracy:0.55 valid_loss:2.73 valid_accuracy:0.62\n",
            "Epoch 11: train_loss:2.76 train_accuracy:0.62 valid_loss:2.77 valid_accuracy:0.49\n",
            "Epoch 12: train_loss:2.77 train_accuracy:0.51 valid_loss:2.72 valid_accuracy:0.65\n",
            "Epoch 13: train_loss:2.74 train_accuracy:0.62 valid_loss:2.73 valid_accuracy:0.61\n",
            "Epoch 14: train_loss:2.71 train_accuracy:0.68 valid_loss:2.70 valid_accuracy:0.62\n",
            "Epoch 15: train_loss:2.71 train_accuracy:0.71 valid_loss:2.67 valid_accuracy:0.73\n",
            "Epoch 16: train_loss:2.70 train_accuracy:0.69 valid_loss:2.69 valid_accuracy:0.70\n",
            "Epoch 17: train_loss:2.69 train_accuracy:0.70 valid_loss:2.71 valid_accuracy:0.65\n",
            "Epoch 18: train_loss:2.69 train_accuracy:0.67 valid_loss:2.66 valid_accuracy:0.70\n",
            "Epoch 19: train_loss:2.70 train_accuracy:0.68 valid_loss:2.70 valid_accuracy:0.73\n",
            "Epoch 20: train_loss:2.71 train_accuracy:0.63 valid_loss:2.64 valid_accuracy:0.73\n",
            "Epoch 21: train_loss:2.68 train_accuracy:0.69 valid_loss:2.67 valid_accuracy:0.72\n",
            "Epoch 22: train_loss:2.67 train_accuracy:0.69 valid_loss:2.64 valid_accuracy:0.69\n",
            "Epoch 23: train_loss:2.69 train_accuracy:0.63 valid_loss:2.65 valid_accuracy:0.74\n",
            "Epoch 24: train_loss:2.65 train_accuracy:0.75 valid_loss:2.64 valid_accuracy:0.73\n",
            "Epoch 25: train_loss:2.67 train_accuracy:0.71 valid_loss:2.70 valid_accuracy:0.64\n",
            "Epoch 26: train_loss:2.65 train_accuracy:0.69 valid_loss:2.66 valid_accuracy:0.71\n",
            "Epoch 27: train_loss:2.64 train_accuracy:0.75 valid_loss:2.63 valid_accuracy:0.73\n",
            "Epoch 28: train_loss:2.67 train_accuracy:0.72 valid_loss:2.63 valid_accuracy:0.75\n",
            "Epoch 29: train_loss:2.66 train_accuracy:0.71 valid_loss:2.64 valid_accuracy:0.72\n",
            "Epoch 30: train_loss:2.65 train_accuracy:0.67 valid_loss:2.61 valid_accuracy:0.75\n",
            "Epoch 31: train_loss:2.66 train_accuracy:0.71 valid_loss:2.61 valid_accuracy:0.82\n",
            "Epoch 32: train_loss:2.63 train_accuracy:0.76 valid_loss:2.61 valid_accuracy:0.84\n",
            "Epoch 33: train_loss:2.64 train_accuracy:0.72 valid_loss:2.59 valid_accuracy:0.80\n",
            "Epoch 34: train_loss:2.63 train_accuracy:0.76 valid_loss:2.61 valid_accuracy:0.81\n"
          ],
          "name": "stdout"
        },
        {
          "output_type": "error",
          "ename": "KeyboardInterrupt",
          "evalue": "ignored",
          "traceback": [
            "\u001b[0;31m---------------------------------------------------------------------------\u001b[0m",
            "\u001b[0;31mKeyboardInterrupt\u001b[0m                         Traceback (most recent call last)",
            "\u001b[0;32m<ipython-input-24-190a5a7fed9f>\u001b[0m in \u001b[0;36m<module>\u001b[0;34m()\u001b[0m\n\u001b[1;32m     11\u001b[0m \u001b[0;34m\u001b[0m\u001b[0m\n\u001b[1;32m     12\u001b[0m     \u001b[0;31m################################# Validation Step #######################################\u001b[0m\u001b[0;34m\u001b[0m\u001b[0;34m\u001b[0m\u001b[0;34m\u001b[0m\u001b[0m\n\u001b[0;32m---> 13\u001b[0;31m     \u001b[0mtotal_val_c_loss\u001b[0m\u001b[0;34m,\u001b[0m \u001b[0mtotal_val_accuracy\u001b[0m \u001b[0;34m=\u001b[0m \u001b[0mrun_epoch\u001b[0m\u001b[0;34m(\u001b[0m\u001b[0mtotal_val_batches\u001b[0m\u001b[0;34m,\u001b[0m \u001b[0;34m'val'\u001b[0m\u001b[0;34m)\u001b[0m\u001b[0;34m\u001b[0m\u001b[0;34m\u001b[0m\u001b[0m\n\u001b[0m\u001b[1;32m     14\u001b[0m     \u001b[0mval_loss\u001b[0m\u001b[0;34m.\u001b[0m\u001b[0mappend\u001b[0m\u001b[0;34m(\u001b[0m\u001b[0mtotal_val_c_loss\u001b[0m\u001b[0;34m)\u001b[0m\u001b[0;34m\u001b[0m\u001b[0;34m\u001b[0m\u001b[0m\n\u001b[1;32m     15\u001b[0m     \u001b[0mval_accuracy\u001b[0m\u001b[0;34m.\u001b[0m\u001b[0mappend\u001b[0m\u001b[0;34m(\u001b[0m\u001b[0mtotal_val_accuracy\u001b[0m\u001b[0;34m)\u001b[0m\u001b[0;34m\u001b[0m\u001b[0;34m\u001b[0m\u001b[0m\n",
            "\u001b[0;32m<ipython-input-22-4b76a614246d>\u001b[0m in \u001b[0;36mrun_epoch\u001b[0;34m(total_train_batches, name)\u001b[0m\n\u001b[1;32m     30\u001b[0m             \u001b[0;31m# optimize process\u001b[0m\u001b[0;34m\u001b[0m\u001b[0;34m\u001b[0m\u001b[0;34m\u001b[0m\u001b[0m\n\u001b[1;32m     31\u001b[0m             \u001b[0moptimizer\u001b[0m\u001b[0;34m.\u001b[0m\u001b[0mzero_grad\u001b[0m\u001b[0;34m(\u001b[0m\u001b[0;34m)\u001b[0m\u001b[0;34m\u001b[0m\u001b[0;34m\u001b[0m\u001b[0m\n\u001b[0;32m---> 32\u001b[0;31m             \u001b[0mc_loss\u001b[0m\u001b[0;34m.\u001b[0m\u001b[0mbackward\u001b[0m\u001b[0;34m(\u001b[0m\u001b[0;34m)\u001b[0m\u001b[0;34m\u001b[0m\u001b[0;34m\u001b[0m\u001b[0m\n\u001b[0m\u001b[1;32m     33\u001b[0m             \u001b[0moptimizer\u001b[0m\u001b[0;34m.\u001b[0m\u001b[0mstep\u001b[0m\u001b[0;34m(\u001b[0m\u001b[0;34m)\u001b[0m\u001b[0;34m\u001b[0m\u001b[0;34m\u001b[0m\u001b[0m\n\u001b[1;32m     34\u001b[0m \u001b[0;34m\u001b[0m\u001b[0m\n",
            "\u001b[0;32m/usr/local/lib/python3.6/dist-packages/torch/tensor.py\u001b[0m in \u001b[0;36mbackward\u001b[0;34m(self, gradient, retain_graph, create_graph)\u001b[0m\n\u001b[1;32m    219\u001b[0m                 \u001b[0mretain_graph\u001b[0m\u001b[0;34m=\u001b[0m\u001b[0mretain_graph\u001b[0m\u001b[0;34m,\u001b[0m\u001b[0;34m\u001b[0m\u001b[0;34m\u001b[0m\u001b[0m\n\u001b[1;32m    220\u001b[0m                 create_graph=create_graph)\n\u001b[0;32m--> 221\u001b[0;31m         \u001b[0mtorch\u001b[0m\u001b[0;34m.\u001b[0m\u001b[0mautograd\u001b[0m\u001b[0;34m.\u001b[0m\u001b[0mbackward\u001b[0m\u001b[0;34m(\u001b[0m\u001b[0mself\u001b[0m\u001b[0;34m,\u001b[0m \u001b[0mgradient\u001b[0m\u001b[0;34m,\u001b[0m \u001b[0mretain_graph\u001b[0m\u001b[0;34m,\u001b[0m \u001b[0mcreate_graph\u001b[0m\u001b[0;34m)\u001b[0m\u001b[0;34m\u001b[0m\u001b[0;34m\u001b[0m\u001b[0m\n\u001b[0m\u001b[1;32m    222\u001b[0m \u001b[0;34m\u001b[0m\u001b[0m\n\u001b[1;32m    223\u001b[0m     \u001b[0;32mdef\u001b[0m \u001b[0mregister_hook\u001b[0m\u001b[0;34m(\u001b[0m\u001b[0mself\u001b[0m\u001b[0;34m,\u001b[0m \u001b[0mhook\u001b[0m\u001b[0;34m)\u001b[0m\u001b[0;34m:\u001b[0m\u001b[0;34m\u001b[0m\u001b[0;34m\u001b[0m\u001b[0m\n",
            "\u001b[0;32m/usr/local/lib/python3.6/dist-packages/torch/autograd/__init__.py\u001b[0m in \u001b[0;36mbackward\u001b[0;34m(tensors, grad_tensors, retain_graph, create_graph, grad_variables)\u001b[0m\n\u001b[1;32m    130\u001b[0m     Variable._execution_engine.run_backward(\n\u001b[1;32m    131\u001b[0m         \u001b[0mtensors\u001b[0m\u001b[0;34m,\u001b[0m \u001b[0mgrad_tensors_\u001b[0m\u001b[0;34m,\u001b[0m \u001b[0mretain_graph\u001b[0m\u001b[0;34m,\u001b[0m \u001b[0mcreate_graph\u001b[0m\u001b[0;34m,\u001b[0m\u001b[0;34m\u001b[0m\u001b[0;34m\u001b[0m\u001b[0m\n\u001b[0;32m--> 132\u001b[0;31m         allow_unreachable=True)  # allow_unreachable flag\n\u001b[0m\u001b[1;32m    133\u001b[0m \u001b[0;34m\u001b[0m\u001b[0m\n\u001b[1;32m    134\u001b[0m \u001b[0;34m\u001b[0m\u001b[0m\n",
            "\u001b[0;31mKeyboardInterrupt\u001b[0m: "
          ]
        }
      ]
    },
    {
      "cell_type": "code",
      "metadata": {
        "id": "CkjcGsJPWonK",
        "outputId": "652b9860-41d5-4846-e9c6-84df5a94a77f",
        "colab": {
          "base_uri": "https://localhost:8080/"
        }
      },
      "source": [
        "total_test_c_loss, total_test_accuracy = run_epoch(total_test_batches,'test')\n",
        "print(\"test_accuracy:{}%\".format(total_test_accuracy*100))"
      ],
      "execution_count": 25,
      "outputs": [
        {
          "output_type": "stream",
          "text": [
            "test_accuracy:69.0%\n"
          ],
          "name": "stdout"
        }
      ]
    },
    {
      "cell_type": "code",
      "metadata": {
        "id": "iD4xz__dWvlL"
      },
      "source": [
        "def plot_loss(train,val,name1=\"train_loss\",name2=\"val_loss\",title=\"\"):\n",
        "    plt.title(title)\n",
        "    plt.plot(train, label=name1)\n",
        "    plt.plot(val, label=name2)\n",
        "    plt.legend()"
      ],
      "execution_count": 26,
      "outputs": []
    },
    {
      "cell_type": "code",
      "metadata": {
        "id": "phj5v7IaW3B-",
        "outputId": "69b89554-8dfe-47c9-fc0e-432d69793292",
        "colab": {
          "base_uri": "https://localhost:8080/",
          "height": 281
        }
      },
      "source": [
        "plot_loss(train_loss,val_loss,\"train_loss\",\"val_loss\",\"Loss Graph\")"
      ],
      "execution_count": 27,
      "outputs": [
        {
          "output_type": "display_data",
          "data": {
            "image/png": "[encoded data removed]",
            "text/plain": [
              "<Figure size 432x288 with 1 Axes>"
            ]
          },
          "metadata": {
            "tags": [],
            "needs_background": "light"
          }
        }
      ]
    },
    {
      "cell_type": "code",
      "metadata": {
        "id": "NZgzxJXYW1kK",
        "outputId": "2bfa5de7-7664-4bc2-c6b3-87acd02b0359",
        "colab": {
          "base_uri": "https://localhost:8080/",
          "height": 281
        }
      },
      "source": [
        "plot_loss(train_accuracy,val_accuracy,\"train_accuracy\",\"val_accuracy\",\"Accuracy Graph\")"
      ],
      "execution_count": 28,
      "outputs": [
        {
          "output_type": "display_data",
          "data": {
            "image/png": "[encoded data removed]",
            "text/plain": [
              "<Figure size 432x288 with 1 Axes>"
            ]
          },
          "metadata": {
            "tags": [],
            "needs_background": "light"
          }
        }
      ]
    }
  ]
}