{
  "nbformat": 4,
  "nbformat_minor": 0,
  "metadata": {
    "colab": {
      "name": "matching-networks.ipynb",
      "provenance": [],
      "collapsed_sections": [],
      "authorship_tag": "ABX9TyMdo6bY6bRlU9SjK8ew0NQe",
      "include_colab_link": true
    },
    "kernelspec": {
      "name": "python3",
      "display_name": "Python 3"
    },
    "accelerator": "GPU"
  },
  "cells": [
    {
      "cell_type": "markdown",
      "metadata": {
        "id": "view-in-github",
        "colab_type": "text"
      },
      "source": [
        "<a href=\"https://colab.research.google.com/github/rakesh4real/one-or-few-shot-learning/blob/main/matching_networks.ipynb\" target=\"_parent\"><img src=\"https://colab.research.google.com/assets/colab-badge.svg\" alt=\"Open In Colab\"/></a>"
      ]
    },
    {
      "cell_type": "code",
      "metadata": {
        "id": "bvhgFTGFTg2B"
      },
      "source": [
        "import math, tqdm, random, os\n",
        "import numpy as np\n",
        "import matplotlib.pyplot as plt\n",
        "\n",
        "import torch\n",
        "import torch.nn as nn\n",
        "import torch.nn.functional as F\n",
        "from torch.optim.lr_scheduler import ReduceLROnPlateau"
      ],
      "execution_count": null,
      "outputs": []
    },
    {
      "cell_type": "code",
      "metadata": {
        "id": "2lyabBfgAKfM"
      },
      "source": [
        "def seed_everything(seed):\n",
        "    random.seed(seed)\n",
        "    os.environ[\"PYTHONHASHSEED\"] = str(seed)\n",
        "    np.random.seed(seed)\n",
        "    torch.manual_seed(seed)\n",
        "    torch.cuda.manual_seed(seed)\n",
        "    torch.backends.cudnn.deterministic = True\n",
        "    print('Seed is: ', seed)\n",
        "    \n",
        "SEED = 123\n",
        "seed_everything(SEED)"
      ],
      "execution_count": null,
      "outputs": []
    },
    {
      "cell_type": "code",
      "metadata": {
        "id": "BcQ-LQSEANTG"
      },
      "source": [
        "device = torch.device('cuda' if torch.cuda.is_available() else 'cpu')"
      ],
      "execution_count": null,
      "outputs": []
    },
    {
      "cell_type": "markdown",
      "metadata": {
        "id": "hApnyFb4_Lt7"
      },
      "source": [
        "## 1. Load data and perform basic pre-processing"
      ]
    },
    {
      "cell_type": "code",
      "metadata": {
        "id": "bd-Efpi4UvYc"
      },
      "source": [
        "!curl -O https://raw.githubusercontent.com/PacktPublishing/Hands-On-One-shot-Learning-with-Python/master/Chapter02/data/data.npy"
      ],
      "execution_count": null,
      "outputs": []
    },
    {
      "cell_type": "code",
      "metadata": {
        "id": "Wzh60z4xT00d"
      },
      "source": [
        "\"\"\"\n",
        "Load data\n",
        "\"\"\"\n",
        "\n",
        "x = np.load('data.npy')\n",
        "print('shape of data: ', x.shape)\n",
        "x = np.expand_dims(x, axis=4)\n",
        "print('shape of data after adding color channel: ', x.shape)\n",
        "\n",
        "\n",
        "\"\"\"\n",
        "train-val-test split\n",
        "\"\"\"\n",
        "\n",
        "np.random.shuffle(x)\n",
        "x_train, x_val, x_test = x[:1200], x[1200:1411], x[1411:]\n",
        "\n",
        "print('train 20 img samples\\t: ', len(x_train))\n",
        "print('val 20 img samples\\t: ', len(x_val))\n",
        "print('test 20 img samples\\t: ', len(x_test))"
      ],
      "execution_count": null,
      "outputs": []
    },
    {
      "cell_type": "code",
      "metadata": {
        "id": "_QC-winLU01U"
      },
      "source": [
        "\"\"\"\n",
        "Pre-process data (zero center)\n",
        "\"\"\"\n",
        "\n",
        "def processes_batch(data, mu, sigma):\n",
        "    return (data - mu) / sigma\n",
        "\n",
        "# Normalize Dataset\n",
        "x_train = processes_batch(x_train, np.mean(x_train), np.std(x_train))\n",
        "x_val = processes_batch(x_val, np.mean(x_val), np.std(x_val))\n",
        "x_test = processes_batch(x_test, np.mean(x_test), np.std(x_test))\n",
        "\n",
        "# Defining dictionary of dataset (used in `get_batch()`)\n",
        "datatset = {\"train\": x_train, \"val\": x_val, \"test\": x_test}"
      ],
      "execution_count": null,
      "outputs": []
    },
    {
      "cell_type": "code",
      "metadata": {
        "id": "YbmlOCbbkaBX"
      },
      "source": [
        "rows = 4\n",
        "cols = 5\n",
        "\n",
        "for set_idx in [3, 100, 35]: # idxs of sets to display\n",
        "  print(\"=\"*70)\n",
        "  print(\"Set of 20 belonging to same class\")\n",
        "  print(\"=\"*70)\n",
        "  plt.close()\n",
        "\n",
        "  ffig, axarr = plt.subplots(rows, cols, figsize=(10, 6))\n",
        "  axarr = axarr.flatten()\n",
        "  for i in range(len(axarr)):\n",
        "    axarr[i].imshow(\n",
        "        np.squeeze(x_train[set_idx,i,:,:,:], axis=2))\n",
        "    axarr[i].axis('off')\n",
        "  \n",
        "  plt.show()"
      ],
      "execution_count": null,
      "outputs": []
    },
    {
      "cell_type": "markdown",
      "metadata": {
        "id": "Sd_X0gzrnLw2"
      },
      "source": [
        "# Omniglot Dataset \n",
        "\n",
        "Designed for developing more human-like learning algorithms. Suitable for one-shot learning! Humans can recognize any alphabet by seeing just **one** sample of it. Thus, use `samples_per_class` = `1` (of avilable `20`) to train model.\n",
        "\n",
        "- Each row (of `1623` rows) has `20` images of same classes. (See `x.shape` above)\n",
        "- `samples_per_class` = `1` as we are dealing with one shot learning\n",
        "- `n_classes` = `n_rows` and `classes_per_set` = `20` "
      ]
    },
    {
      "cell_type": "markdown",
      "metadata": {
        "id": "f2QCJPbHLlPx"
      },
      "source": [
        "![image.png](data:image/png;base64,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)"
      ]
    },
    {
      "cell_type": "markdown",
      "metadata": {
        "id": "6jU_C8Xy_Ibq"
      },
      "source": [
        "## 2. Preprocessing for novel training startegy"
      ]
    },
    {
      "cell_type": "markdown",
      "metadata": {
        "id": "Ut8Y3PdCI_Sq"
      },
      "source": [
        "In matching nets, $\\hat{y}_{test}$ and $\\hat{y}_{train}$ are **disjoint** (but their distributions are similar. *Dogs cannot be classified if no dog-like image in  training dataset*).\n",
        "\n",
        "So, for predicting never seen query samples $x_q$ in *target set* `target_x`, *support set's* (`support_set_x`, `support_set_y`) help is taken by computing similarities b/w items in *support set* and single $x_q$ in *target set.*\n",
        "\n",
        "<br>\n",
        "\n",
        "**So, should `support_set` have all possible classes to check similarity w/ `x_q` ?** It is not feasible!\n",
        "\n",
        "**Solution:** ⁉️\n",
        "\n",
        "\n",
        "<br>\n",
        "<br>\n",
        "<br>\n",
        "\n",
        "Classes in support set and target set are **not disjoint!**\n",
        "\n",
        "A *batch* in an epoch has\n",
        "\n",
        "- **Support set:** \n",
        "- **Target set:** query point"
      ]
    },
    {
      "cell_type": "code",
      "metadata": {
        "id": "SqZL554NVU-n"
      },
      "source": [
        "def sample_batch(data):\n",
        "        \"\"\"\n",
        "        Generates sample batch \n",
        "        :param : data - one of(train,test,val) our current dataset shape [total_classes,20,28,28,1]\n",
        "        :return: [support_set_x,support_set_y,target_x,target_y] for Matching Networks\n",
        "        \"\"\"\n",
        "        support_set_x = np.zeros((batch_size, classes_per_set, samples_per_class, data.shape[2],\n",
        "                                  data.shape[3], data.shape[4]), np.float32)\n",
        "        support_set_y = np.zeros((batch_size, classes_per_set, samples_per_class), np.int32)\n",
        "        \n",
        "        target_x = np.zeros((batch_size, data.shape[2], data.shape[3], data.shape[4]), np.float32)\n",
        "        target_y = np.zeros((batch_size, 1), np.int32)\n",
        "        for i in range(batch_size):\n",
        "            choose_classes = np.random.choice(data.shape[0], size=classes_per_set, replace=False) # choosing random classes\n",
        "            choose_label = np.random.choice(classes_per_set, size=1) # label set\n",
        "            choose_samples = np.random.choice(data.shape[1], size=samples_per_class + 1, replace=False)\n",
        "            x_temp = data[choose_classes] # choosing classes\n",
        "            x_temp = x_temp[:, choose_samples] # choosing sample batch from classes chosen outputs 20X2X28X28X1\n",
        "            y_temp = np.arange(classes_per_set) # will return [0,1,2,3,...,19]\n",
        "            support_set_x[i] = x_temp[:, :-1]\n",
        "            support_set_y[i] = np.expand_dims(y_temp[:], axis=1) # expand dimension\n",
        "            target_x[i] = x_temp[choose_label, -1]\n",
        "            target_y[i] = y_temp[choose_label]\n",
        "        return support_set_x, support_set_y, target_x, target_y # returns support of [batch_size, 20 classes per set, 1 sample, 28, 28,1]\n",
        "    \n",
        "def get_batch(dataset_name):\n",
        "        \"\"\"\n",
        "        gen batch while training\n",
        "        :param dataset_name: The name of dataset(one of \"train\",\"val\",\"test\")\n",
        "        :return: a batch images\n",
        "        \"\"\"\n",
        "        support_set_x, support_set_y, target_x, target_y = sample_batch(datatset[dataset_name])\n",
        "        support_set_x = support_set_x.reshape((support_set_x.shape[0], support_set_x.shape[1] * support_set_x.shape[2],\n",
        "                                               support_set_x.shape[3], support_set_x.shape[4], support_set_x.shape[5]))\n",
        "        support_set_y = support_set_y.reshape(support_set_y.shape[0], support_set_y.shape[1] * support_set_y.shape[2])\n",
        "        return support_set_x, support_set_y, target_x, target_y"
      ],
      "execution_count": null,
      "outputs": []
    },
    {
      "cell_type": "code",
      "metadata": {
        "id": "OqupeAdf_j1Y"
      },
      "source": [
        "\"\"\"\n",
        "test (support, target)\n",
        "\"\"\"\n",
        "\n",
        "batch_size=32\n",
        "classes_per_set= 10 # (m) here, `20`\n",
        "samples_per_class=1 # (k) here 1-shot so k=1\n",
        "\n",
        "print(\"sampled batch shapes\")\n",
        "sx, sy, tx, ty = sample_batch(x_train)\n",
        "\n",
        "print(sx.shape)\n",
        "print(sy.shape)\n",
        "print(tx.shape)\n",
        "print(ty.shape)\n",
        "print(\"Note 👆 shape of `support_set_x`, `support_set_y` is altered for training 👇\")\n",
        "\n",
        "\n",
        "print(\"\\n\")\n",
        "print(\"sampled batch with `get_batch` shapes (train)\")\n",
        "sx, sy, tx, ty = get_batch('train')\n",
        "\n",
        "print(sx.shape)\n",
        "print(sy.shape)\n",
        "print(tx.shape)\n",
        "print(ty.shape)\n",
        "print(sy[:3])\n",
        "print(ty[:3])\n",
        "\n",
        "\n",
        "print(\"\\n\")\n",
        "print(\"sampled batch with `get_batch` shapes (val)\")\n",
        "sx, sy, tx, ty = get_batch('val')\n",
        "\n",
        "print(sx.shape)\n",
        "print(sy.shape)\n",
        "print(tx.shape)\n",
        "print(ty.shape)\n",
        "print(sy[:3], ty[:3])\n",
        "\n",
        "\n",
        "# see `forward` of matching network to\n",
        "# know how trainig is done."
      ],
      "execution_count": null,
      "outputs": []
    },
    {
      "cell_type": "markdown",
      "metadata": {
        "id": "llCCJXt8JZ0J"
      },
      "source": [
        "## 3. Build novel model"
      ]
    },
    {
      "cell_type": "code",
      "metadata": {
        "id": "69NwDN5RVcpY"
      },
      "source": [
        "def convLayer(in_channels, out_channels, dropout_prob=0.0):\n",
        "    \"\"\"\n",
        "    :param dataset_name: The name of dataset(one of \"train\",\"val\",\"test\")\n",
        "    :return: a batch images\n",
        "    \"\"\"\n",
        "    cnn_seq = nn.Sequential(\n",
        "        nn.Conv2d(in_channels, out_channels, 3, 1, 1),\n",
        "        nn.ReLU(True),\n",
        "        nn.BatchNorm2d(out_channels),\n",
        "        nn.MaxPool2d(kernel_size=2, stride=2),\n",
        "        nn.Dropout(dropout_prob)\n",
        "    )\n",
        "    return cnn_seq\n",
        "\n",
        "class Embeddings_extractor(nn.Module):\n",
        "    def __init__(self, layer_size=64, num_channels=1, dropout_prob=0.5, image_size=28):\n",
        "        super(Embeddings_extractor, self).__init__()\n",
        "        \"\"\"\n",
        "        Build a CNN to produce embeddings\n",
        "        :param layer_size:64(default)\n",
        "        :param num_channels:\n",
        "        :param keep_prob:\n",
        "        :param image_size:\n",
        "        \"\"\"\n",
        "        self.layer1 = convLayer(num_channels, layer_size, dropout_prob)\n",
        "        self.layer2 = convLayer(layer_size, layer_size, dropout_prob)\n",
        "        self.layer3 = convLayer(layer_size, layer_size, dropout_prob)\n",
        "        self.layer4 = convLayer(layer_size, layer_size, dropout_prob)\n",
        "\n",
        "        finalSize = int(math.floor(image_size / (2 * 2 * 2 * 2)))\n",
        "        self.outSize = finalSize * finalSize * layer_size\n",
        "\n",
        "    def forward(self, image_input):\n",
        "        \"\"\"\n",
        "        :param: Image\n",
        "        :return: embeddings\n",
        "        \"\"\"\n",
        "        x = self.layer1(image_input)\n",
        "        x = self.layer2(x)\n",
        "        x = self.layer3(x)\n",
        "        x = self.layer4(x)\n",
        "        x = x.view(x.size()[0], -1)\n",
        "        return x"
      ],
      "execution_count": null,
      "outputs": []
    },
    {
      "cell_type": "code",
      "metadata": {
        "id": "XCpgfG7XVjNk"
      },
      "source": [
        "class AttentionalClassify(nn.Module):\n",
        "    def __init__(self):\n",
        "        super(AttentionalClassify, self).__init__()\n",
        "\n",
        "    def forward(self, similarities, support_set_y):\n",
        "        \"\"\"\n",
        "        Products pdfs over the support set classes for the target set image.\n",
        "        :param similarities: A tensor with cosine similarites of size[batch_size,sequence_length]\n",
        "        :param support_set_y:[batch_size,sequence_length,classes_num]\n",
        "        :return: Softmax pdf shape[batch_size,classes_num]\n",
        "        \"\"\"\n",
        "        softmax = nn.Softmax(dim=1)\n",
        "        softmax_similarities = softmax(similarities)\n",
        "        preds = softmax_similarities.unsqueeze(1).bmm(support_set_y).squeeze()\n",
        "        return preds"
      ],
      "execution_count": null,
      "outputs": []
    },
    {
      "cell_type": "code",
      "metadata": {
        "id": "fCq6TjacVl-q"
      },
      "source": [
        "class DistanceNetwork(nn.Module):\n",
        "    \"\"\"\n",
        "    This model calculates the cosine distance between each of the support set embeddings and \n",
        "    the target image embeddings.\n",
        "    \"\"\"\n",
        "\n",
        "    def __init__(self):\n",
        "        super(DistanceNetwork, self).__init__()\n",
        "\n",
        "    def forward(self, support_set, input_image):\n",
        "        \"\"\"\n",
        "        forward pass\n",
        "        :param support_set:the embeddings of the support set images.shape[sequence_length,batch_size,64]\n",
        "        :param input_image: the embedding of the target image,shape[batch_size,64]\n",
        "        :return:shape[batch_size,sequence_length]\n",
        "        \"\"\"\n",
        "        eps = 1e-10\n",
        "        similarities = []\n",
        "        for support_image in support_set:\n",
        "            sum_support = torch.sum(torch.pow(support_image, 2), 1)\n",
        "            support_manitude = sum_support.clamp(eps, float(\"inf\")).rsqrt()\n",
        "            dot_product = input_image.unsqueeze(1).bmm(support_image.unsqueeze(2)).squeeze()\n",
        "            cosine_similarity = dot_product * support_manitude\n",
        "            similarities.append(cosine_similarity)\n",
        "        similarities = torch.stack(similarities)\n",
        "        return similarities.t()"
      ],
      "execution_count": null,
      "outputs": []
    },
    {
      "cell_type": "code",
      "metadata": {
        "id": "sTRbhPZ_Vo0I"
      },
      "source": [
        "class BidirectionalLSTM(nn.Module):\n",
        "    def __init__(self, layer_size, batch_size, vector_dim):\n",
        "        super(BidirectionalLSTM, self).__init__()\n",
        "        \"\"\"\n",
        "        Initial a muti-layer Bidirectional LSTM\n",
        "        :param layer_size: a list of each layer'size\n",
        "        :param batch_size: \n",
        "        :param vector_dim: \n",
        "        \"\"\"\n",
        "        self.batch_size = batch_size\n",
        "        self.hidden_size = layer_size[0]\n",
        "        self.vector_dim = vector_dim\n",
        "        self.num_layer = len(layer_size)\n",
        "        self.lstm = nn.LSTM(input_size=self.vector_dim, num_layers=self.num_layer, hidden_size=self.hidden_size,\n",
        "                            bidirectional=True).to(device)\n",
        "        self.hidden = (\n",
        "            torch.zeros(self.lstm.num_layers * 2, self.batch_size, self.lstm.hidden_size).to(device),\n",
        "            torch.zeros(self.lstm.num_layers * 2, self.batch_size, self.lstm.hidden_size).to(device))\n",
        "\n",
        "    def repackage_hidden(self,h):\n",
        "        \"\"\"Wraps hidden states in new Variables, \n",
        "        to detach them from their history.\"\"\"\n",
        "        if type(h) == torch.Tensor:\n",
        "            return h.data\n",
        "        else:\n",
        "            return tuple(self.repackage_hidden(v) for v in h)\n",
        "        \n",
        "    def forward(self, inputs):\n",
        "        self.hidden = self.repackage_hidden(self.hidden)\n",
        "        output, self.hidden = self.lstm(inputs, self.hidden)\n",
        "        return output"
      ],
      "execution_count": null,
      "outputs": []
    },
    {
      "cell_type": "code",
      "metadata": {
        "id": "bAb8ofBKVrRY"
      },
      "source": [
        "class MatchingNetwork(nn.Module):\n",
        "    def __init__(self, keep_prob, batch_size=32, num_channels=1, learning_rate=1e-3, fce=False, num_classes_per_set=20, \\\n",
        "                 num_samples_per_class=1, image_size=28):\n",
        "        \"\"\"\n",
        "        Matching Network\n",
        "        :param keep_prob: dropout rate\n",
        "        :param batch_size:\n",
        "        :param num_channels:\n",
        "        :param learning_rate:\n",
        "        :param fce: Flag indicating whether to use full context embeddings(i.e. apply an LSTM on the CNN embeddings)\n",
        "        :param num_classes_per_set:\n",
        "        :param num_samples_per_class:\n",
        "        :param image_size:\n",
        "        \"\"\"\n",
        "        super(MatchingNetwork, self).__init__()\n",
        "        self.batch_size = batch_size\n",
        "        self.keep_prob = keep_prob\n",
        "        self.num_channels = num_channels\n",
        "        self.learning_rate = learning_rate\n",
        "        self.num_classes_per_set = num_classes_per_set\n",
        "        self.num_samples_per_class = num_samples_per_class\n",
        "        self.image_size = image_size\n",
        "        \n",
        "        # Let's set all peices of Matching Networks Architecture\n",
        "        self.g = Embeddings_extractor(layer_size=64, num_channels=num_channels, dropout_prob=keep_prob, image_size=image_size).to(device)\n",
        "        self.f = fce # bool - if we are considering full-context embeddings\n",
        "        self.c = DistanceNetwork().to(device) # cosine distance among embeddings\n",
        "        self.a = AttentionalClassify().to(device) # softmax of cosine distance of embeddings\n",
        "        if self.f:\n",
        "            self.lstm = BidirectionalLSTM(layer_size=[32], batch_size=self.batch_size, vector_dim=self.g.outSize).to(device)\n",
        "\n",
        "    def forward(self, support_set_images, support_set_y_one_hot, target_image, target_y):\n",
        "        \"\"\"\n",
        "        Main process of the network\n",
        "        :param support_set_images: shape[batch_size,sequence_length,num_channels,image_size,image_size]\n",
        "        :param support_set_y_one_hot: shape[batch_size,sequence_length,num_classes_per_set]\n",
        "        :param target_image: shape[batch_size,num_channels,image_size,image_size]\n",
        "        :param target_y:\n",
        "        :return:\n",
        "\n",
        "        Note: all are vector operations on batch!\n",
        "        \"\"\"\n",
        "        # print(support_set_images.shape)\n",
        "        # print(support_set_y_one_hot.shape)\n",
        "        # print(target_image.shape)\n",
        "        # print(target_y.shape)\n",
        "\n",
        "        # produce embeddings for support set images\n",
        "        encoded_images = []\n",
        "        for i in np.arange(support_set_images.size(1)):\n",
        "            gen_encode = self.g(support_set_images[:, i, :, :])\n",
        "            encoded_images.append(gen_encode)\n",
        "            \n",
        "        # produce embeddings for target images\n",
        "        gen_encode = self.g(target_image)\n",
        "        encoded_images.append(gen_encode)\n",
        "\n",
        "        # To tensors. Note: batch trick used in encoded_images by converting\n",
        "        # shape: (support_size-m, batch_size, embbedding ...)\n",
        "        output = torch.stack(encoded_images,dim=0)\n",
        "\n",
        "        \n",
        "        # if we are considering full-context embeddings\n",
        "        if self.f:\n",
        "            output = self.lstm(output)\n",
        "            \n",
        "        # get similarities between support set embeddings and target\n",
        "        # [In batch]\n",
        "        # total `support-size-m` similarities for `m` images against query image \n",
        "        similarites = self.c(support_set=output[:-1], input_image=output[-1])\n",
        "\n",
        "        # Note: (support_size-m, batch_size, ..) >> (batch_size, support_size-m)\n",
        "        #print('sim shape: ', similarites.shape) \n",
        "        \n",
        "        # produce predictions for target probabilities\n",
        "        preds = self.a(similarites, support_set_y=support_set_y_one_hot)\n",
        "\n",
        "        # shape same dims as similarities (batchsize, support-size)\n",
        "        # print('pred shape: ', preds.shape) \n",
        "\n",
        "        # calculate the accuracy\n",
        "        values, indices = preds.max(1)\n",
        "        accuracy = torch.mean((indices.squeeze() == target_y).float())\n",
        "        crossentropy_loss = F.cross_entropy(preds, target_y.long())\n",
        "\n",
        "        return accuracy, crossentropy_loss"
      ],
      "execution_count": null,
      "outputs": []
    },
    {
      "cell_type": "code",
      "metadata": {
        "id": "1bbrj9PRVw-I"
      },
      "source": [
        "def run_epoch(total_train_batches, name='train'):\n",
        "    \"\"\"\n",
        "    Run the training epoch\n",
        "    :param total_train_batches: Number of batches to train on\n",
        "    :return:\n",
        "    \"\"\"\n",
        "    total_c_loss = 0.0\n",
        "    total_accuracy = 0.0\n",
        "    for i in range(int(total_train_batches)):\n",
        "            x_support_set, y_support_set, x_target, y_target = get_batch(name)\n",
        "            x_support_set = torch.from_numpy(x_support_set).float().to(device)\n",
        "            y_support_set = torch.from_numpy(y_support_set).long().to(device)\n",
        "            x_target = torch.from_numpy(x_target).float().to(device)\n",
        "            y_target = torch.from_numpy(y_target).squeeze().long().to(device)\n",
        "\n",
        "            # convert to one hot encoding\n",
        "            y_support_set = y_support_set.unsqueeze(2).to(device)\n",
        "            sequence_length = y_support_set.size()[1]\n",
        "            batch_size = y_support_set.size()[0]\n",
        "            y_support_set_one_hot = torch.zeros(batch_size, sequence_length, classes_per_set).to(device)\n",
        "            y_support_set_one_hot = y_support_set_one_hot.scatter_(2,y_support_set.data,1)\n",
        "\n",
        "            # reshape channels and change order\n",
        "            size = x_support_set.size()\n",
        "            x_support_set = x_support_set.permute(0, 1, 4, 2, 3)\n",
        "            x_target = x_target.permute(0, 3, 1, 2)\n",
        "            acc, c_loss = matchNet(x_support_set, y_support_set_one_hot, x_target, y_target)\n",
        "\n",
        "            # optimize process\n",
        "            optimizer.zero_grad()\n",
        "            c_loss.backward()\n",
        "            optimizer.step()\n",
        "\n",
        "            iter_out = \"tr_loss: {}, tr_accuracy: {}\".format(c_loss, acc)\n",
        "            total_c_loss += c_loss\n",
        "            total_accuracy += acc\n",
        "\n",
        "    total_c_loss = total_c_loss / total_train_batches\n",
        "    total_accuracy = total_accuracy / total_train_batches\n",
        "    return total_c_loss, total_accuracy"
      ],
      "execution_count": null,
      "outputs": []
    },
    {
      "cell_type": "code",
      "metadata": {
        "id": "Pdl9iWKYV0nm"
      },
      "source": [
        "batch_size= 128 # (bigger batch size, smoother the training)\n",
        "num_channels=1\n",
        "lr=1e-3\n",
        "image_size=28\n",
        "classes_per_set=20 # try this!\n",
        "samples_per_class=1\n",
        "keep_prob=0.0\n",
        "fce=True\n",
        "wd=0.001 # 0\n",
        "matchNet = MatchingNetwork(keep_prob, batch_size, num_channels, lr, fce, classes_per_set,\n",
        "                                samples_per_class, image_size).to(device)\n",
        "total_iter = 0\n",
        "total_train_iter = 0\n",
        "optimizer = torch.optim.Adam(matchNet.parameters(), lr=lr, weight_decay=wd)\n",
        "scheduler = ReduceLROnPlateau(optimizer, 'min', patience=10, verbose=True) \n",
        "\n",
        "# Training setup\n",
        "total_epochs = 100\n",
        "total_train_batches = 10\n",
        "total_val_batches = 5\n",
        "total_test_batches = 5"
      ],
      "execution_count": null,
      "outputs": []
    },
    {
      "cell_type": "code",
      "metadata": {
        "id": "t_tWua9PV36T",
        "outputId": "847f90aa-e99b-4793-c427-df6becf08acd",
        "colab": {
          "base_uri": "https://localhost:8080/",
          "height": 800
        }
      },
      "source": [
        "train_loss,train_accuracy=[],[]\n",
        "val_loss,val_accuracy=[],[]\n",
        "test_loss,test_accuracy=[],[]\n",
        "\n",
        "for e in range(total_epochs):\n",
        "    ############################### Training Step ##########################################\n",
        "    total_c_loss, total_accuracy = run_epoch(total_train_batches,'train')\n",
        "    train_loss.append(total_c_loss)\n",
        "    train_accuracy.append(total_accuracy)\n",
        "    \n",
        "    ################################# Validation Step #######################################\n",
        "    total_val_c_loss, total_val_accuracy = run_epoch(total_val_batches, 'val')\n",
        "    scheduler.step(total_val_c_loss)\n",
        "    val_loss.append(total_val_c_loss)\n",
        "    val_accuracy.append(total_val_accuracy)\n",
        "    print(\"Epoch {}: train_loss:{:.2f} train_accuracy:{:.2f} valid_loss:{:.2f} valid_accuracy:{:.2f}\".\n",
        "          format(e, total_c_loss, total_accuracy, total_val_c_loss, total_val_accuracy))"
      ],
      "execution_count": 17,
      "outputs": [
        {
          "output_type": "stream",
          "text": [
            "Epoch 0: train_loss:2.98 train_accuracy:0.21 valid_loss:2.95 valid_accuracy:0.33\n",
            "Epoch 1: train_loss:2.92 train_accuracy:0.40 valid_loss:2.89 valid_accuracy:0.46\n",
            "Epoch 2: train_loss:2.86 train_accuracy:0.50 valid_loss:2.82 valid_accuracy:0.56\n",
            "Epoch 3: train_loss:2.80 train_accuracy:0.61 valid_loss:2.76 valid_accuracy:0.63\n",
            "Epoch 4: train_loss:2.74 train_accuracy:0.67 valid_loss:2.71 valid_accuracy:0.69\n",
            "Epoch 5: train_loss:2.71 train_accuracy:0.71 valid_loss:2.68 valid_accuracy:0.74\n",
            "Epoch 6: train_loss:2.68 train_accuracy:0.74 valid_loss:2.65 valid_accuracy:0.75\n",
            "Epoch 7: train_loss:2.65 train_accuracy:0.77 valid_loss:2.62 valid_accuracy:0.80\n",
            "Epoch 8: train_loss:2.63 train_accuracy:0.77 valid_loss:2.61 valid_accuracy:0.82\n",
            "Epoch 9: train_loss:2.61 train_accuracy:0.82 valid_loss:2.59 valid_accuracy:0.85\n",
            "Epoch 10: train_loss:2.60 train_accuracy:0.84 valid_loss:2.57 valid_accuracy:0.84\n",
            "Epoch 11: train_loss:2.60 train_accuracy:0.81 valid_loss:2.55 valid_accuracy:0.87\n",
            "Epoch 12: train_loss:2.58 train_accuracy:0.83 valid_loss:2.55 valid_accuracy:0.83\n",
            "Epoch 13: train_loss:2.56 train_accuracy:0.85 valid_loss:2.52 valid_accuracy:0.86\n",
            "Epoch 14: train_loss:2.56 train_accuracy:0.84 valid_loss:2.52 valid_accuracy:0.91\n",
            "Epoch 15: train_loss:2.56 train_accuracy:0.84 valid_loss:2.52 valid_accuracy:0.87\n",
            "Epoch 16: train_loss:2.55 train_accuracy:0.86 valid_loss:2.50 valid_accuracy:0.90\n",
            "Epoch 17: train_loss:2.53 train_accuracy:0.87 valid_loss:2.50 valid_accuracy:0.91\n",
            "Epoch 18: train_loss:2.54 train_accuracy:0.86 valid_loss:2.51 valid_accuracy:0.89\n",
            "Epoch 19: train_loss:2.54 train_accuracy:0.86 valid_loss:2.50 valid_accuracy:0.90\n",
            "Epoch 20: train_loss:2.54 train_accuracy:0.85 valid_loss:2.48 valid_accuracy:0.90\n",
            "Epoch 21: train_loss:2.52 train_accuracy:0.88 valid_loss:2.48 valid_accuracy:0.92\n",
            "Epoch 22: train_loss:2.53 train_accuracy:0.87 valid_loss:2.48 valid_accuracy:0.91\n",
            "Epoch 23: train_loss:2.51 train_accuracy:0.87 valid_loss:2.47 valid_accuracy:0.93\n",
            "Epoch 24: train_loss:2.52 train_accuracy:0.89 valid_loss:2.48 valid_accuracy:0.90\n"
          ],
          "name": "stdout"
        },
        {
          "output_type": "error",
          "ename": "KeyboardInterrupt",
          "evalue": "ignored",
          "traceback": [
            "\u001b[0;31m---------------------------------------------------------------------------\u001b[0m",
            "\u001b[0;31mKeyboardInterrupt\u001b[0m                         Traceback (most recent call last)",
            "\u001b[0;32m<ipython-input-17-4c9ce0f209b9>\u001b[0m in \u001b[0;36m<module>\u001b[0;34m()\u001b[0m\n\u001b[1;32m     10\u001b[0m \u001b[0;34m\u001b[0m\u001b[0m\n\u001b[1;32m     11\u001b[0m     \u001b[0;31m################################# Validation Step #######################################\u001b[0m\u001b[0;34m\u001b[0m\u001b[0;34m\u001b[0m\u001b[0;34m\u001b[0m\u001b[0m\n\u001b[0;32m---> 12\u001b[0;31m     \u001b[0mtotal_val_c_loss\u001b[0m\u001b[0;34m,\u001b[0m \u001b[0mtotal_val_accuracy\u001b[0m \u001b[0;34m=\u001b[0m \u001b[0mrun_epoch\u001b[0m\u001b[0;34m(\u001b[0m\u001b[0mtotal_val_batches\u001b[0m\u001b[0;34m,\u001b[0m \u001b[0;34m'val'\u001b[0m\u001b[0;34m)\u001b[0m\u001b[0;34m\u001b[0m\u001b[0;34m\u001b[0m\u001b[0m\n\u001b[0m\u001b[1;32m     13\u001b[0m     \u001b[0mscheduler\u001b[0m\u001b[0;34m.\u001b[0m\u001b[0mstep\u001b[0m\u001b[0;34m(\u001b[0m\u001b[0mtotal_val_c_loss\u001b[0m\u001b[0;34m)\u001b[0m\u001b[0;34m\u001b[0m\u001b[0;34m\u001b[0m\u001b[0m\n\u001b[1;32m     14\u001b[0m     \u001b[0mval_loss\u001b[0m\u001b[0;34m.\u001b[0m\u001b[0mappend\u001b[0m\u001b[0;34m(\u001b[0m\u001b[0mtotal_val_c_loss\u001b[0m\u001b[0;34m)\u001b[0m\u001b[0;34m\u001b[0m\u001b[0;34m\u001b[0m\u001b[0m\n",
            "\u001b[0;32m<ipython-input-15-8b09eff2e76b>\u001b[0m in \u001b[0;36mrun_epoch\u001b[0;34m(total_train_batches, name)\u001b[0m\n\u001b[1;32m     32\u001b[0m             \u001b[0moptimizer\u001b[0m\u001b[0;34m.\u001b[0m\u001b[0mstep\u001b[0m\u001b[0;34m(\u001b[0m\u001b[0;34m)\u001b[0m\u001b[0;34m\u001b[0m\u001b[0;34m\u001b[0m\u001b[0m\n\u001b[1;32m     33\u001b[0m \u001b[0;34m\u001b[0m\u001b[0m\n\u001b[0;32m---> 34\u001b[0;31m             \u001b[0miter_out\u001b[0m \u001b[0;34m=\u001b[0m \u001b[0;34m\"tr_loss: {}, tr_accuracy: {}\"\u001b[0m\u001b[0;34m.\u001b[0m\u001b[0mformat\u001b[0m\u001b[0;34m(\u001b[0m\u001b[0mc_loss\u001b[0m\u001b[0;34m,\u001b[0m \u001b[0macc\u001b[0m\u001b[0;34m)\u001b[0m\u001b[0;34m\u001b[0m\u001b[0;34m\u001b[0m\u001b[0m\n\u001b[0m\u001b[1;32m     35\u001b[0m             \u001b[0mtotal_c_loss\u001b[0m \u001b[0;34m+=\u001b[0m \u001b[0mc_loss\u001b[0m\u001b[0;34m\u001b[0m\u001b[0;34m\u001b[0m\u001b[0m\n\u001b[1;32m     36\u001b[0m             \u001b[0mtotal_accuracy\u001b[0m \u001b[0;34m+=\u001b[0m \u001b[0macc\u001b[0m\u001b[0;34m\u001b[0m\u001b[0;34m\u001b[0m\u001b[0m\n",
            "\u001b[0;32m/usr/local/lib/python3.6/dist-packages/torch/tensor.py\u001b[0m in \u001b[0;36m__format__\u001b[0;34m(self, format_spec)\u001b[0m\n\u001b[1;32m    532\u001b[0m             \u001b[0;32mreturn\u001b[0m \u001b[0mhandle_torch_function\u001b[0m\u001b[0;34m(\u001b[0m\u001b[0mTensor\u001b[0m\u001b[0;34m.\u001b[0m\u001b[0m__format__\u001b[0m\u001b[0;34m,\u001b[0m \u001b[0mrelevant_args\u001b[0m\u001b[0;34m,\u001b[0m \u001b[0mself\u001b[0m\u001b[0;34m,\u001b[0m \u001b[0mformat_spec\u001b[0m\u001b[0;34m)\u001b[0m\u001b[0;34m\u001b[0m\u001b[0;34m\u001b[0m\u001b[0m\n\u001b[1;32m    533\u001b[0m         \u001b[0;32mif\u001b[0m \u001b[0mself\u001b[0m\u001b[0;34m.\u001b[0m\u001b[0mdim\u001b[0m\u001b[0;34m(\u001b[0m\u001b[0;34m)\u001b[0m \u001b[0;34m==\u001b[0m \u001b[0;36m0\u001b[0m\u001b[0;34m:\u001b[0m\u001b[0;34m\u001b[0m\u001b[0;34m\u001b[0m\u001b[0m\n\u001b[0;32m--> 534\u001b[0;31m             \u001b[0;32mreturn\u001b[0m \u001b[0mself\u001b[0m\u001b[0;34m.\u001b[0m\u001b[0mitem\u001b[0m\u001b[0;34m(\u001b[0m\u001b[0;34m)\u001b[0m\u001b[0;34m.\u001b[0m\u001b[0m__format__\u001b[0m\u001b[0;34m(\u001b[0m\u001b[0mformat_spec\u001b[0m\u001b[0;34m)\u001b[0m\u001b[0;34m\u001b[0m\u001b[0;34m\u001b[0m\u001b[0m\n\u001b[0m\u001b[1;32m    535\u001b[0m         \u001b[0;32mreturn\u001b[0m \u001b[0mobject\u001b[0m\u001b[0;34m.\u001b[0m\u001b[0m__format__\u001b[0m\u001b[0;34m(\u001b[0m\u001b[0mself\u001b[0m\u001b[0;34m,\u001b[0m \u001b[0mformat_spec\u001b[0m\u001b[0;34m)\u001b[0m\u001b[0;34m\u001b[0m\u001b[0;34m\u001b[0m\u001b[0m\n\u001b[1;32m    536\u001b[0m \u001b[0;34m\u001b[0m\u001b[0m\n",
            "\u001b[0;31mKeyboardInterrupt\u001b[0m: "
          ]
        }
      ]
    },
    {
      "cell_type": "code",
      "metadata": {
        "id": "CkjcGsJPWonK",
        "outputId": "ad4d7fbe-eaa3-4446-9c40-d89e4cfe3c03",
        "colab": {
          "base_uri": "https://localhost:8080/"
        }
      },
      "source": [
        "total_test_c_loss, total_test_accuracy = run_epoch(total_test_batches,'test')\n",
        "print(\"test_accuracy:{}%\".format(total_test_accuracy*100))"
      ],
      "execution_count": 18,
      "outputs": [
        {
          "output_type": "stream",
          "text": [
            "test_accuracy:85.0%\n"
          ],
          "name": "stdout"
        }
      ]
    },
    {
      "cell_type": "code",
      "metadata": {
        "id": "iD4xz__dWvlL"
      },
      "source": [
        "def plot_loss(train,val,name1=\"train_loss\",name2=\"val_loss\",title=\"\"):\n",
        "    plt.title(title)\n",
        "    plt.plot(train, label=name1)\n",
        "    plt.plot(val, label=name2)\n",
        "    plt.legend()"
      ],
      "execution_count": 19,
      "outputs": []
    },
    {
      "cell_type": "code",
      "metadata": {
        "id": "phj5v7IaW3B-",
        "outputId": "37b817d0-a3d1-490f-f1fb-2ef6316b1153",
        "colab": {
          "base_uri": "https://localhost:8080/",
          "height": 281
        }
      },
      "source": [
        "plot_loss(train_loss,val_loss,\"train_loss\", \"val_loss\", \"Loss Graph\")"
      ],
      "execution_count": 20,
      "outputs": [
        {
          "output_type": "display_data",
          "data": {
            "image/png": "[encoded data removed]",
            "text/plain": [
              "<Figure size 432x288 with 1 Axes>"
            ]
          },
          "metadata": {
            "tags": [],
            "needs_background": "light"
          }
        }
      ]
    },
    {
      "cell_type": "code",
      "metadata": {
        "id": "NZgzxJXYW1kK",
        "outputId": "2512046b-44ae-4f60-93b1-82123231ba55",
        "colab": {
          "base_uri": "https://localhost:8080/",
          "height": 281
        }
      },
      "source": [
        "plot_loss(train_accuracy,val_accuracy,\"train_accuracy\",\"val_accuracy\",\"Accuracy Graph\")"
      ],
      "execution_count": 21,
      "outputs": [
        {
          "output_type": "display_data",
          "data": {
            "image/png": "[encoded data removed]",
            "text/plain": [
              "<Figure size 432x288 with 1 Axes>"
            ]
          },
          "metadata": {
            "tags": [],
            "needs_background": "light"
          }
        }
      ]
    }
  ]
}