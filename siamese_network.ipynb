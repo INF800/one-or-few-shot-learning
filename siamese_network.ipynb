{
  "nbformat": 4,
  "nbformat_minor": 0,
  "metadata": {
    "colab": {
      "name": "siamese-network.ipynb",
      "provenance": [],
      "collapsed_sections": [],
      "authorship_tag": "ABX9TyMIEccc9teW4Ro2XmJXYf6/",
      "include_colab_link": true
    },
    "kernelspec": {
      "name": "python3",
      "display_name": "Python 3"
    },
    "widgets": {
      "application/vnd.jupyter.widget-state+json": {
        "030a255a03974ffb9b7fdadf2376c540": {
          "model_module": "@jupyter-widgets/controls",
          "model_name": "HBoxModel",
          "state": {
            "_view_name": "HBoxView",
            "_dom_classes": [],
            "_model_name": "HBoxModel",
            "_view_module": "@jupyter-widgets/controls",
            "_model_module_version": "1.5.0",
            "_view_count": null,
            "_view_module_version": "1.5.0",
            "box_style": "",
            "layout": "IPY_MODEL_1c7a14c4685743929f4b080b1f49f95e",
            "_model_module": "@jupyter-widgets/controls",
            "children": [
              "IPY_MODEL_d2020f508de84f39b48d167f3d6c194a",
              "IPY_MODEL_e8bb8ba0c77a40f9abffd4f6a4904d15"
            ]
          }
        },
        "1c7a14c4685743929f4b080b1f49f95e": {
          "model_module": "@jupyter-widgets/base",
          "model_name": "LayoutModel",
          "state": {
            "_view_name": "LayoutView",
            "grid_template_rows": null,
            "right": null,
            "justify_content": null,
            "_view_module": "@jupyter-widgets/base",
            "overflow": null,
            "_model_module_version": "1.2.0",
            "_view_count": null,
            "flex_flow": null,
            "width": null,
            "min_width": null,
            "border": null,
            "align_items": null,
            "bottom": null,
            "_model_module": "@jupyter-widgets/base",
            "top": null,
            "grid_column": null,
            "overflow_y": null,
            "overflow_x": null,
            "grid_auto_flow": null,
            "grid_area": null,
            "grid_template_columns": null,
            "flex": null,
            "_model_name": "LayoutModel",
            "justify_items": null,
            "grid_row": null,
            "max_height": null,
            "align_content": null,
            "visibility": null,
            "align_self": null,
            "height": null,
            "min_height": null,
            "padding": null,
            "grid_auto_rows": null,
            "grid_gap": null,
            "max_width": null,
            "order": null,
            "_view_module_version": "1.2.0",
            "grid_template_areas": null,
            "object_position": null,
            "object_fit": null,
            "grid_auto_columns": null,
            "margin": null,
            "display": null,
            "left": null
          }
        },
        "d2020f508de84f39b48d167f3d6c194a": {
          "model_module": "@jupyter-widgets/controls",
          "model_name": "FloatProgressModel",
          "state": {
            "_view_name": "ProgressView",
            "style": "IPY_MODEL_c6a05b5485764f45ad7a62951572997c",
            "_dom_classes": [],
            "description": "",
            "_model_name": "FloatProgressModel",
            "bar_style": "info",
            "max": 1,
            "_view_module": "@jupyter-widgets/controls",
            "_model_module_version": "1.5.0",
            "value": 1,
            "_view_count": null,
            "_view_module_version": "1.5.0",
            "orientation": "horizontal",
            "min": 0,
            "description_tooltip": null,
            "_model_module": "@jupyter-widgets/controls",
            "layout": "IPY_MODEL_d714a0bf07e542ec8082fbd828587d44"
          }
        },
        "e8bb8ba0c77a40f9abffd4f6a4904d15": {
          "model_module": "@jupyter-widgets/controls",
          "model_name": "HTMLModel",
          "state": {
            "_view_name": "HTMLView",
            "style": "IPY_MODEL_c9bbcfa0bbb64b6882e2b6e127570151",
            "_dom_classes": [],
            "description": "",
            "_model_name": "HTMLModel",
            "placeholder": "​",
            "_view_module": "@jupyter-widgets/controls",
            "_model_module_version": "1.5.0",
            "value": " 9920512/? [00:12&lt;00:00, 13353042.04it/s]",
            "_view_count": null,
            "_view_module_version": "1.5.0",
            "description_tooltip": null,
            "_model_module": "@jupyter-widgets/controls",
            "layout": "IPY_MODEL_b0362bca3051400a9d6cf0f74b879b7b"
          }
        },
        "c6a05b5485764f45ad7a62951572997c": {
          "model_module": "@jupyter-widgets/controls",
          "model_name": "ProgressStyleModel",
          "state": {
            "_view_name": "StyleView",
            "_model_name": "ProgressStyleModel",
            "description_width": "initial",
            "_view_module": "@jupyter-widgets/base",
            "_model_module_version": "1.5.0",
            "_view_count": null,
            "_view_module_version": "1.2.0",
            "bar_color": null,
            "_model_module": "@jupyter-widgets/controls"
          }
        },
        "d714a0bf07e542ec8082fbd828587d44": {
          "model_module": "@jupyter-widgets/base",
          "model_name": "LayoutModel",
          "state": {
            "_view_name": "LayoutView",
            "grid_template_rows": null,
            "right": null,
            "justify_content": null,
            "_view_module": "@jupyter-widgets/base",
            "overflow": null,
            "_model_module_version": "1.2.0",
            "_view_count": null,
            "flex_flow": null,
            "width": null,
            "min_width": null,
            "border": null,
            "align_items": null,
            "bottom": null,
            "_model_module": "@jupyter-widgets/base",
            "top": null,
            "grid_column": null,
            "overflow_y": null,
            "overflow_x": null,
            "grid_auto_flow": null,
            "grid_area": null,
            "grid_template_columns": null,
            "flex": null,
            "_model_name": "LayoutModel",
            "justify_items": null,
            "grid_row": null,
            "max_height": null,
            "align_content": null,
            "visibility": null,
            "align_self": null,
            "height": null,
            "min_height": null,
            "padding": null,
            "grid_auto_rows": null,
            "grid_gap": null,
            "max_width": null,
            "order": null,
            "_view_module_version": "1.2.0",
            "grid_template_areas": null,
            "object_position": null,
            "object_fit": null,
            "grid_auto_columns": null,
            "margin": null,
            "display": null,
            "left": null
          }
        },
        "c9bbcfa0bbb64b6882e2b6e127570151": {
          "model_module": "@jupyter-widgets/controls",
          "model_name": "DescriptionStyleModel",
          "state": {
            "_view_name": "StyleView",
            "_model_name": "DescriptionStyleModel",
            "description_width": "",
            "_view_module": "@jupyter-widgets/base",
            "_model_module_version": "1.5.0",
            "_view_count": null,
            "_view_module_version": "1.2.0",
            "_model_module": "@jupyter-widgets/controls"
          }
        },
        "b0362bca3051400a9d6cf0f74b879b7b": {
          "model_module": "@jupyter-widgets/base",
          "model_name": "LayoutModel",
          "state": {
            "_view_name": "LayoutView",
            "grid_template_rows": null,
            "right": null,
            "justify_content": null,
            "_view_module": "@jupyter-widgets/base",
            "overflow": null,
            "_model_module_version": "1.2.0",
            "_view_count": null,
            "flex_flow": null,
            "width": null,
            "min_width": null,
            "border": null,
            "align_items": null,
            "bottom": null,
            "_model_module": "@jupyter-widgets/base",
            "top": null,
            "grid_column": null,
            "overflow_y": null,
            "overflow_x": null,
            "grid_auto_flow": null,
            "grid_area": null,
            "grid_template_columns": null,
            "flex": null,
            "_model_name": "LayoutModel",
            "justify_items": null,
            "grid_row": null,
            "max_height": null,
            "align_content": null,
            "visibility": null,
            "align_self": null,
            "height": null,
            "min_height": null,
            "padding": null,
            "grid_auto_rows": null,
            "grid_gap": null,
            "max_width": null,
            "order": null,
            "_view_module_version": "1.2.0",
            "grid_template_areas": null,
            "object_position": null,
            "object_fit": null,
            "grid_auto_columns": null,
            "margin": null,
            "display": null,
            "left": null
          }
        },
        "0d3d13bdbbcc4ecc871f38b63aae4210": {
          "model_module": "@jupyter-widgets/controls",
          "model_name": "HBoxModel",
          "state": {
            "_view_name": "HBoxView",
            "_dom_classes": [],
            "_model_name": "HBoxModel",
            "_view_module": "@jupyter-widgets/controls",
            "_model_module_version": "1.5.0",
            "_view_count": null,
            "_view_module_version": "1.5.0",
            "box_style": "",
            "layout": "IPY_MODEL_a57295652c37408c9982b234bcc53915",
            "_model_module": "@jupyter-widgets/controls",
            "children": [
              "IPY_MODEL_814e1704903542d491ed97e24d2f4d09",
              "IPY_MODEL_27644103d5494ac187d15adf853270d1"
            ]
          }
        },
        "a57295652c37408c9982b234bcc53915": {
          "model_module": "@jupyter-widgets/base",
          "model_name": "LayoutModel",
          "state": {
            "_view_name": "LayoutView",
            "grid_template_rows": null,
            "right": null,
            "justify_content": null,
            "_view_module": "@jupyter-widgets/base",
            "overflow": null,
            "_model_module_version": "1.2.0",
            "_view_count": null,
            "flex_flow": null,
            "width": null,
            "min_width": null,
            "border": null,
            "align_items": null,
            "bottom": null,
            "_model_module": "@jupyter-widgets/base",
            "top": null,
            "grid_column": null,
            "overflow_y": null,
            "overflow_x": null,
            "grid_auto_flow": null,
            "grid_area": null,
            "grid_template_columns": null,
            "flex": null,
            "_model_name": "LayoutModel",
            "justify_items": null,
            "grid_row": null,
            "max_height": null,
            "align_content": null,
            "visibility": null,
            "align_self": null,
            "height": null,
            "min_height": null,
            "padding": null,
            "grid_auto_rows": null,
            "grid_gap": null,
            "max_width": null,
            "order": null,
            "_view_module_version": "1.2.0",
            "grid_template_areas": null,
            "object_position": null,
            "object_fit": null,
            "grid_auto_columns": null,
            "margin": null,
            "display": null,
            "left": null
          }
        },
        "814e1704903542d491ed97e24d2f4d09": {
          "model_module": "@jupyter-widgets/controls",
          "model_name": "FloatProgressModel",
          "state": {
            "_view_name": "ProgressView",
            "style": "IPY_MODEL_235803e1dddf4aa1b94ad68fd519ffb4",
            "_dom_classes": [],
            "description": "",
            "_model_name": "FloatProgressModel",
            "bar_style": "info",
            "max": 1,
            "_view_module": "@jupyter-widgets/controls",
            "_model_module_version": "1.5.0",
            "value": 1,
            "_view_count": null,
            "_view_module_version": "1.5.0",
            "orientation": "horizontal",
            "min": 0,
            "description_tooltip": null,
            "_model_module": "@jupyter-widgets/controls",
            "layout": "IPY_MODEL_7927bf4c6741401eb31dfdae473672c4"
          }
        },
        "27644103d5494ac187d15adf853270d1": {
          "model_module": "@jupyter-widgets/controls",
          "model_name": "HTMLModel",
          "state": {
            "_view_name": "HTMLView",
            "style": "IPY_MODEL_52c7d1d4d097411ca2d73ade145fc23e",
            "_dom_classes": [],
            "description": "",
            "_model_name": "HTMLModel",
            "placeholder": "​",
            "_view_module": "@jupyter-widgets/controls",
            "_model_module_version": "1.5.0",
            "value": " 32768/? [00:12&lt;00:00, 153629.68it/s]",
            "_view_count": null,
            "_view_module_version": "1.5.0",
            "description_tooltip": null,
            "_model_module": "@jupyter-widgets/controls",
            "layout": "IPY_MODEL_dc4e464d8c744c999e9102c10c93d048"
          }
        },
        "235803e1dddf4aa1b94ad68fd519ffb4": {
          "model_module": "@jupyter-widgets/controls",
          "model_name": "ProgressStyleModel",
          "state": {
            "_view_name": "StyleView",
            "_model_name": "ProgressStyleModel",
            "description_width": "initial",
            "_view_module": "@jupyter-widgets/base",
            "_model_module_version": "1.5.0",
            "_view_count": null,
            "_view_module_version": "1.2.0",
            "bar_color": null,
            "_model_module": "@jupyter-widgets/controls"
          }
        },
        "7927bf4c6741401eb31dfdae473672c4": {
          "model_module": "@jupyter-widgets/base",
          "model_name": "LayoutModel",
          "state": {
            "_view_name": "LayoutView",
            "grid_template_rows": null,
            "right": null,
            "justify_content": null,
            "_view_module": "@jupyter-widgets/base",
            "overflow": null,
            "_model_module_version": "1.2.0",
            "_view_count": null,
            "flex_flow": null,
            "width": null,
            "min_width": null,
            "border": null,
            "align_items": null,
            "bottom": null,
            "_model_module": "@jupyter-widgets/base",
            "top": null,
            "grid_column": null,
            "overflow_y": null,
            "overflow_x": null,
            "grid_auto_flow": null,
            "grid_area": null,
            "grid_template_columns": null,
            "flex": null,
            "_model_name": "LayoutModel",
            "justify_items": null,
            "grid_row": null,
            "max_height": null,
            "align_content": null,
            "visibility": null,
            "align_self": null,
            "height": null,
            "min_height": null,
            "padding": null,
            "grid_auto_rows": null,
            "grid_gap": null,
            "max_width": null,
            "order": null,
            "_view_module_version": "1.2.0",
            "grid_template_areas": null,
            "object_position": null,
            "object_fit": null,
            "grid_auto_columns": null,
            "margin": null,
            "display": null,
            "left": null
          }
        },
        "52c7d1d4d097411ca2d73ade145fc23e": {
          "model_module": "@jupyter-widgets/controls",
          "model_name": "DescriptionStyleModel",
          "state": {
            "_view_name": "StyleView",
            "_model_name": "DescriptionStyleModel",
            "description_width": "",
            "_view_module": "@jupyter-widgets/base",
            "_model_module_version": "1.5.0",
            "_view_count": null,
            "_view_module_version": "1.2.0",
            "_model_module": "@jupyter-widgets/controls"
          }
        },
        "dc4e464d8c744c999e9102c10c93d048": {
          "model_module": "@jupyter-widgets/base",
          "model_name": "LayoutModel",
          "state": {
            "_view_name": "LayoutView",
            "grid_template_rows": null,
            "right": null,
            "justify_content": null,
            "_view_module": "@jupyter-widgets/base",
            "overflow": null,
            "_model_module_version": "1.2.0",
            "_view_count": null,
            "flex_flow": null,
            "width": null,
            "min_width": null,
            "border": null,
            "align_items": null,
            "bottom": null,
            "_model_module": "@jupyter-widgets/base",
            "top": null,
            "grid_column": null,
            "overflow_y": null,
            "overflow_x": null,
            "grid_auto_flow": null,
            "grid_area": null,
            "grid_template_columns": null,
            "flex": null,
            "_model_name": "LayoutModel",
            "justify_items": null,
            "grid_row": null,
            "max_height": null,
            "align_content": null,
            "visibility": null,
            "align_self": null,
            "height": null,
            "min_height": null,
            "padding": null,
            "grid_auto_rows": null,
            "grid_gap": null,
            "max_width": null,
            "order": null,
            "_view_module_version": "1.2.0",
            "grid_template_areas": null,
            "object_position": null,
            "object_fit": null,
            "grid_auto_columns": null,
            "margin": null,
            "display": null,
            "left": null
          }
        },
        "243b058b949648d48a49a3a0d86de563": {
          "model_module": "@jupyter-widgets/controls",
          "model_name": "HBoxModel",
          "state": {
            "_view_name": "HBoxView",
            "_dom_classes": [],
            "_model_name": "HBoxModel",
            "_view_module": "@jupyter-widgets/controls",
            "_model_module_version": "1.5.0",
            "_view_count": null,
            "_view_module_version": "1.5.0",
            "box_style": "",
            "layout": "IPY_MODEL_42eb904a12e64f38843f37ca614826fe",
            "_model_module": "@jupyter-widgets/controls",
            "children": [
              "IPY_MODEL_5f789dda137e4e89bc5c0c8f14dbbd38",
              "IPY_MODEL_c5b78846c9374567996b332bfbf0e851"
            ]
          }
        },
        "42eb904a12e64f38843f37ca614826fe": {
          "model_module": "@jupyter-widgets/base",
          "model_name": "LayoutModel",
          "state": {
            "_view_name": "LayoutView",
            "grid_template_rows": null,
            "right": null,
            "justify_content": null,
            "_view_module": "@jupyter-widgets/base",
            "overflow": null,
            "_model_module_version": "1.2.0",
            "_view_count": null,
            "flex_flow": null,
            "width": null,
            "min_width": null,
            "border": null,
            "align_items": null,
            "bottom": null,
            "_model_module": "@jupyter-widgets/base",
            "top": null,
            "grid_column": null,
            "overflow_y": null,
            "overflow_x": null,
            "grid_auto_flow": null,
            "grid_area": null,
            "grid_template_columns": null,
            "flex": null,
            "_model_name": "LayoutModel",
            "justify_items": null,
            "grid_row": null,
            "max_height": null,
            "align_content": null,
            "visibility": null,
            "align_self": null,
            "height": null,
            "min_height": null,
            "padding": null,
            "grid_auto_rows": null,
            "grid_gap": null,
            "max_width": null,
            "order": null,
            "_view_module_version": "1.2.0",
            "grid_template_areas": null,
            "object_position": null,
            "object_fit": null,
            "grid_auto_columns": null,
            "margin": null,
            "display": null,
            "left": null
          }
        },
        "5f789dda137e4e89bc5c0c8f14dbbd38": {
          "model_module": "@jupyter-widgets/controls",
          "model_name": "FloatProgressModel",
          "state": {
            "_view_name": "ProgressView",
            "style": "IPY_MODEL_9c881a6c11b544f89018b3ed6eb71edf",
            "_dom_classes": [],
            "description": "",
            "_model_name": "FloatProgressModel",
            "bar_style": "info",
            "max": 1,
            "_view_module": "@jupyter-widgets/controls",
            "_model_module_version": "1.5.0",
            "value": 1,
            "_view_count": null,
            "_view_module_version": "1.5.0",
            "orientation": "horizontal",
            "min": 0,
            "description_tooltip": null,
            "_model_module": "@jupyter-widgets/controls",
            "layout": "IPY_MODEL_d63905ce173141cf9be6fc43f8de2613"
          }
        },
        "c5b78846c9374567996b332bfbf0e851": {
          "model_module": "@jupyter-widgets/controls",
          "model_name": "HTMLModel",
          "state": {
            "_view_name": "HTMLView",
            "style": "IPY_MODEL_7a4828121ee94a8ca08ef65f3dc00147",
            "_dom_classes": [],
            "description": "",
            "_model_name": "HTMLModel",
            "placeholder": "​",
            "_view_module": "@jupyter-widgets/controls",
            "_model_module_version": "1.5.0",
            "value": " 1654784/? [00:12&lt;00:00, 9502208.00it/s]",
            "_view_count": null,
            "_view_module_version": "1.5.0",
            "description_tooltip": null,
            "_model_module": "@jupyter-widgets/controls",
            "layout": "IPY_MODEL_300fa601d0ab462a92c1eaadbd7d5c2b"
          }
        },
        "9c881a6c11b544f89018b3ed6eb71edf": {
          "model_module": "@jupyter-widgets/controls",
          "model_name": "ProgressStyleModel",
          "state": {
            "_view_name": "StyleView",
            "_model_name": "ProgressStyleModel",
            "description_width": "initial",
            "_view_module": "@jupyter-widgets/base",
            "_model_module_version": "1.5.0",
            "_view_count": null,
            "_view_module_version": "1.2.0",
            "bar_color": null,
            "_model_module": "@jupyter-widgets/controls"
          }
        },
        "d63905ce173141cf9be6fc43f8de2613": {
          "model_module": "@jupyter-widgets/base",
          "model_name": "LayoutModel",
          "state": {
            "_view_name": "LayoutView",
            "grid_template_rows": null,
            "right": null,
            "justify_content": null,
            "_view_module": "@jupyter-widgets/base",
            "overflow": null,
            "_model_module_version": "1.2.0",
            "_view_count": null,
            "flex_flow": null,
            "width": null,
            "min_width": null,
            "border": null,
            "align_items": null,
            "bottom": null,
            "_model_module": "@jupyter-widgets/base",
            "top": null,
            "grid_column": null,
            "overflow_y": null,
            "overflow_x": null,
            "grid_auto_flow": null,
            "grid_area": null,
            "grid_template_columns": null,
            "flex": null,
            "_model_name": "LayoutModel",
            "justify_items": null,
            "grid_row": null,
            "max_height": null,
            "align_content": null,
            "visibility": null,
            "align_self": null,
            "height": null,
            "min_height": null,
            "padding": null,
            "grid_auto_rows": null,
            "grid_gap": null,
            "max_width": null,
            "order": null,
            "_view_module_version": "1.2.0",
            "grid_template_areas": null,
            "object_position": null,
            "object_fit": null,
            "grid_auto_columns": null,
            "margin": null,
            "display": null,
            "left": null
          }
        },
        "7a4828121ee94a8ca08ef65f3dc00147": {
          "model_module": "@jupyter-widgets/controls",
          "model_name": "DescriptionStyleModel",
          "state": {
            "_view_name": "StyleView",
            "_model_name": "DescriptionStyleModel",
            "description_width": "",
            "_view_module": "@jupyter-widgets/base",
            "_model_module_version": "1.5.0",
            "_view_count": null,
            "_view_module_version": "1.2.0",
            "_model_module": "@jupyter-widgets/controls"
          }
        },
        "300fa601d0ab462a92c1eaadbd7d5c2b": {
          "model_module": "@jupyter-widgets/base",
          "model_name": "LayoutModel",
          "state": {
            "_view_name": "LayoutView",
            "grid_template_rows": null,
            "right": null,
            "justify_content": null,
            "_view_module": "@jupyter-widgets/base",
            "overflow": null,
            "_model_module_version": "1.2.0",
            "_view_count": null,
            "flex_flow": null,
            "width": null,
            "min_width": null,
            "border": null,
            "align_items": null,
            "bottom": null,
            "_model_module": "@jupyter-widgets/base",
            "top": null,
            "grid_column": null,
            "overflow_y": null,
            "overflow_x": null,
            "grid_auto_flow": null,
            "grid_area": null,
            "grid_template_columns": null,
            "flex": null,
            "_model_name": "LayoutModel",
            "justify_items": null,
            "grid_row": null,
            "max_height": null,
            "align_content": null,
            "visibility": null,
            "align_self": null,
            "height": null,
            "min_height": null,
            "padding": null,
            "grid_auto_rows": null,
            "grid_gap": null,
            "max_width": null,
            "order": null,
            "_view_module_version": "1.2.0",
            "grid_template_areas": null,
            "object_position": null,
            "object_fit": null,
            "grid_auto_columns": null,
            "margin": null,
            "display": null,
            "left": null
          }
        },
        "3c4e175a5ee9446481c152e9eca60f18": {
          "model_module": "@jupyter-widgets/controls",
          "model_name": "HBoxModel",
          "state": {
            "_view_name": "HBoxView",
            "_dom_classes": [],
            "_model_name": "HBoxModel",
            "_view_module": "@jupyter-widgets/controls",
            "_model_module_version": "1.5.0",
            "_view_count": null,
            "_view_module_version": "1.5.0",
            "box_style": "",
            "layout": "IPY_MODEL_97584546769548c781f680273e837596",
            "_model_module": "@jupyter-widgets/controls",
            "children": [
              "IPY_MODEL_ec6d74f8b30c4bedbd6625a14360f780",
              "IPY_MODEL_a702706f96e340e1802ba1dec9e65702"
            ]
          }
        },
        "97584546769548c781f680273e837596": {
          "model_module": "@jupyter-widgets/base",
          "model_name": "LayoutModel",
          "state": {
            "_view_name": "LayoutView",
            "grid_template_rows": null,
            "right": null,
            "justify_content": null,
            "_view_module": "@jupyter-widgets/base",
            "overflow": null,
            "_model_module_version": "1.2.0",
            "_view_count": null,
            "flex_flow": null,
            "width": null,
            "min_width": null,
            "border": null,
            "align_items": null,
            "bottom": null,
            "_model_module": "@jupyter-widgets/base",
            "top": null,
            "grid_column": null,
            "overflow_y": null,
            "overflow_x": null,
            "grid_auto_flow": null,
            "grid_area": null,
            "grid_template_columns": null,
            "flex": null,
            "_model_name": "LayoutModel",
            "justify_items": null,
            "grid_row": null,
            "max_height": null,
            "align_content": null,
            "visibility": null,
            "align_self": null,
            "height": null,
            "min_height": null,
            "padding": null,
            "grid_auto_rows": null,
            "grid_gap": null,
            "max_width": null,
            "order": null,
            "_view_module_version": "1.2.0",
            "grid_template_areas": null,
            "object_position": null,
            "object_fit": null,
            "grid_auto_columns": null,
            "margin": null,
            "display": null,
            "left": null
          }
        },
        "ec6d74f8b30c4bedbd6625a14360f780": {
          "model_module": "@jupyter-widgets/controls",
          "model_name": "FloatProgressModel",
          "state": {
            "_view_name": "ProgressView",
            "style": "IPY_MODEL_7c70cc6048334d60a8e52c9435dbfca2",
            "_dom_classes": [],
            "description": "",
            "_model_name": "FloatProgressModel",
            "bar_style": "info",
            "max": 1,
            "_view_module": "@jupyter-widgets/controls",
            "_model_module_version": "1.5.0",
            "value": 0,
            "_view_count": null,
            "_view_module_version": "1.5.0",
            "orientation": "horizontal",
            "min": 0,
            "description_tooltip": null,
            "_model_module": "@jupyter-widgets/controls",
            "layout": "IPY_MODEL_23e3402590d3400ab94acbb10058d482"
          }
        },
        "a702706f96e340e1802ba1dec9e65702": {
          "model_module": "@jupyter-widgets/controls",
          "model_name": "HTMLModel",
          "state": {
            "_view_name": "HTMLView",
            "style": "IPY_MODEL_a1d0b378045e4f2ab629ced4ca275df2",
            "_dom_classes": [],
            "description": "",
            "_model_name": "HTMLModel",
            "placeholder": "​",
            "_view_module": "@jupyter-widgets/controls",
            "_model_module_version": "1.5.0",
            "value": " 0/? [00:00&lt;?, ?it/s]",
            "_view_count": null,
            "_view_module_version": "1.5.0",
            "description_tooltip": null,
            "_model_module": "@jupyter-widgets/controls",
            "layout": "IPY_MODEL_36a431480f65429baf304e841f8eef74"
          }
        },
        "7c70cc6048334d60a8e52c9435dbfca2": {
          "model_module": "@jupyter-widgets/controls",
          "model_name": "ProgressStyleModel",
          "state": {
            "_view_name": "StyleView",
            "_model_name": "ProgressStyleModel",
            "description_width": "initial",
            "_view_module": "@jupyter-widgets/base",
            "_model_module_version": "1.5.0",
            "_view_count": null,
            "_view_module_version": "1.2.0",
            "bar_color": null,
            "_model_module": "@jupyter-widgets/controls"
          }
        },
        "23e3402590d3400ab94acbb10058d482": {
          "model_module": "@jupyter-widgets/base",
          "model_name": "LayoutModel",
          "state": {
            "_view_name": "LayoutView",
            "grid_template_rows": null,
            "right": null,
            "justify_content": null,
            "_view_module": "@jupyter-widgets/base",
            "overflow": null,
            "_model_module_version": "1.2.0",
            "_view_count": null,
            "flex_flow": null,
            "width": null,
            "min_width": null,
            "border": null,
            "align_items": null,
            "bottom": null,
            "_model_module": "@jupyter-widgets/base",
            "top": null,
            "grid_column": null,
            "overflow_y": null,
            "overflow_x": null,
            "grid_auto_flow": null,
            "grid_area": null,
            "grid_template_columns": null,
            "flex": null,
            "_model_name": "LayoutModel",
            "justify_items": null,
            "grid_row": null,
            "max_height": null,
            "align_content": null,
            "visibility": null,
            "align_self": null,
            "height": null,
            "min_height": null,
            "padding": null,
            "grid_auto_rows": null,
            "grid_gap": null,
            "max_width": null,
            "order": null,
            "_view_module_version": "1.2.0",
            "grid_template_areas": null,
            "object_position": null,
            "object_fit": null,
            "grid_auto_columns": null,
            "margin": null,
            "display": null,
            "left": null
          }
        },
        "a1d0b378045e4f2ab629ced4ca275df2": {
          "model_module": "@jupyter-widgets/controls",
          "model_name": "DescriptionStyleModel",
          "state": {
            "_view_name": "StyleView",
            "_model_name": "DescriptionStyleModel",
            "description_width": "",
            "_view_module": "@jupyter-widgets/base",
            "_model_module_version": "1.5.0",
            "_view_count": null,
            "_view_module_version": "1.2.0",
            "_model_module": "@jupyter-widgets/controls"
          }
        },
        "36a431480f65429baf304e841f8eef74": {
          "model_module": "@jupyter-widgets/base",
          "model_name": "LayoutModel",
          "state": {
            "_view_name": "LayoutView",
            "grid_template_rows": null,
            "right": null,
            "justify_content": null,
            "_view_module": "@jupyter-widgets/base",
            "overflow": null,
            "_model_module_version": "1.2.0",
            "_view_count": null,
            "flex_flow": null,
            "width": null,
            "min_width": null,
            "border": null,
            "align_items": null,
            "bottom": null,
            "_model_module": "@jupyter-widgets/base",
            "top": null,
            "grid_column": null,
            "overflow_y": null,
            "overflow_x": null,
            "grid_auto_flow": null,
            "grid_area": null,
            "grid_template_columns": null,
            "flex": null,
            "_model_name": "LayoutModel",
            "justify_items": null,
            "grid_row": null,
            "max_height": null,
            "align_content": null,
            "visibility": null,
            "align_self": null,
            "height": null,
            "min_height": null,
            "padding": null,
            "grid_auto_rows": null,
            "grid_gap": null,
            "max_width": null,
            "order": null,
            "_view_module_version": "1.2.0",
            "grid_template_areas": null,
            "object_position": null,
            "object_fit": null,
            "grid_auto_columns": null,
            "margin": null,
            "display": null,
            "left": null
          }
        }
      }
    }
  },
  "cells": [
    {
      "cell_type": "markdown",
      "metadata": {
        "id": "view-in-github",
        "colab_type": "text"
      },
      "source": [
        "<a href=\"https://colab.research.google.com/github/rakesh4real/one-or-few-shot-learning/blob/main/siamese_network.ipynb\" target=\"_parent\"><img src=\"https://colab.research.google.com/assets/colab-badge.svg\" alt=\"Open In Colab\"/></a>"
      ]
    },
    {
      "cell_type": "code",
      "metadata": {
        "id": "lwwUWgDooB-S"
      },
      "source": [
        "import random, time, pickle\n",
        "import numpy as np\n",
        "import matplotlib.pyplot as plt   \n",
        "\n",
        "import torch\n",
        "import torch.nn as nn\n",
        "from torchvision import datasets\n",
        "from torch.autograd import Variable\n",
        "from torchvision import transforms"
      ],
      "execution_count": 3,
      "outputs": []
    },
    {
      "cell_type": "code",
      "metadata": {
        "id": "FJ47wuG_9On8"
      },
      "source": [
        "class Dataset(object):\n",
        "    '''\n",
        "    Input: numpy values\n",
        "    Output: torch variables.\n",
        "    '''\n",
        "    def __init__(self, x0, x1, label):\n",
        "        self.size = label.shape[0] \n",
        "        self.x0 = torch.from_numpy(x0)\n",
        "        self.x1 = torch.from_numpy(x1)\n",
        "        self.label = torch.from_numpy(label)\n",
        "\n",
        "    def __getitem__(self, index):\n",
        "        return (self.x0[index],\n",
        "                self.x1[index],\n",
        "                self.label[index])\n",
        "\n",
        "    def __len__(self):\n",
        "        return self.size"
      ],
      "execution_count": 37,
      "outputs": []
    },
    {
      "cell_type": "code",
      "metadata": {
        "id": "17xnlbxb92UH"
      },
      "source": [
        "def create_pairs(data, digit_indices):\n",
        "    x0_data = []\n",
        "    x1_data = []\n",
        "    label = []\n",
        "    n = min([len(digit_indices[d]) for d in range(10)]) - 1\n",
        "    for d in range(10): # for MNIST dataset: as we have 10 digits\n",
        "        for i in range(n):\n",
        "            z1, z2 = digit_indices[d][i], digit_indices[d][i + 1]\n",
        "            x0_data.append(data[z1] / 255.) # Image Preprocessing Step\n",
        "            x1_data.append(data[z2] / 255.) # Image Preprocessing Step\n",
        "            label.append(1)\n",
        "            inc = random.randrange(1, 10)\n",
        "            dn = (d + inc) % 10\n",
        "            z1, z2 = digit_indices[d][i], digit_indices[dn][i]\n",
        "            x0_data.append(data[z1] / 255.) # Image Preprocessing Step\n",
        "            x1_data.append(data[z2] / 255.) # Image Preprocessing Step\n",
        "            label.append(0)\n",
        "\n",
        "    x0_data = np.array(x0_data, dtype=np.float32)\n",
        "    x0_data = x0_data.reshape([-1, 1, 28, 28])\n",
        "    x1_data = np.array(x1_data, dtype=np.float32)\n",
        "    x1_data = x1_data.reshape([-1, 1, 28, 28])\n",
        "    label = np.array(label, dtype=np.int32)\n",
        "    return x0_data, x1_data, label"
      ],
      "execution_count": 38,
      "outputs": []
    },
    {
      "cell_type": "code",
      "metadata": {
        "id": "4GjKjQlO97ID"
      },
      "source": [
        "def create_iterator(data, label, batchsize, shuffle=False):\n",
        "    digit_indices = [np.where(label == i)[0] for i in range(10)]\n",
        "    x0, x1, label = create_pairs(data, digit_indices)\n",
        "    ret = Dataset(x0, x1, label)\n",
        "    return ret"
      ],
      "execution_count": 39,
      "outputs": []
    },
    {
      "cell_type": "code",
      "metadata": {
        "id": "XHY3N79V99xk"
      },
      "source": [
        "def contrastive_loss_function(x0, x1, y, margin=1.0):\n",
        "    # euclidean distance\n",
        "    diff = x0 - x1\n",
        "    dist_sq = torch.sum(torch.pow(diff, 2), 1)\n",
        "    dist = torch.sqrt(dist_sq)\n",
        "    mdist = margin - dist\n",
        "    dist = torch.clamp(mdist, min=0.0)\n",
        "    loss = y * dist_sq + (1 - y) * torch.pow(dist, 2)\n",
        "    loss = torch.sum(loss) / 2.0 / x0.size()[0]\n",
        "    return loss"
      ],
      "execution_count": 40,
      "outputs": []
    },
    {
      "cell_type": "code",
      "metadata": {
        "id": "48YX_Wzz-Ciu"
      },
      "source": [
        "class SiameseNetwork(nn.Module):\n",
        "    def __init__(self):\n",
        "        super(SiameseNetwork, self).__init__()\n",
        "        self.cnn1 = nn.Sequential(\n",
        "            nn.Conv2d(1, 20, kernel_size=5),\n",
        "            nn.MaxPool2d(2, stride=2),\n",
        "            nn.Conv2d(20, 50, kernel_size=5),\n",
        "            nn.MaxPool2d(2, stride=2))\n",
        "        self.fc1 = nn.Sequential(\n",
        "            nn.Linear(50 * 4 * 4, 500),\n",
        "            nn.ReLU(inplace=True),\n",
        "            nn.Linear(500,10),\n",
        "            nn.Linear(10, 2))\n",
        "        \n",
        "    def forward_once(self, x):\n",
        "        output = self.cnn1(x)\n",
        "        output = output.view(output.size()[0], -1)\n",
        "        output = self.fc1(output)\n",
        "        return output\n",
        "\n",
        "    def forward(self, input1, input2):\n",
        "        output1 = self.forward_once(input1)\n",
        "        output2 = self.forward_once(input2)\n",
        "        return output1, output2"
      ],
      "execution_count": 41,
      "outputs": []
    },
    {
      "cell_type": "code",
      "metadata": {
        "id": "W59XBvyq-FeI",
        "outputId": "63e36119-b93d-4726-ce97-e9bb6e11d926",
        "colab": {
          "base_uri": "https://localhost:8080/",
          "height": 315,
          "referenced_widgets": [
            "030a255a03974ffb9b7fdadf2376c540",
            "1c7a14c4685743929f4b080b1f49f95e",
            "d2020f508de84f39b48d167f3d6c194a",
            "e8bb8ba0c77a40f9abffd4f6a4904d15",
            "c6a05b5485764f45ad7a62951572997c",
            "d714a0bf07e542ec8082fbd828587d44",
            "c9bbcfa0bbb64b6882e2b6e127570151",
            "b0362bca3051400a9d6cf0f74b879b7b",
            "0d3d13bdbbcc4ecc871f38b63aae4210",
            "a57295652c37408c9982b234bcc53915",
            "814e1704903542d491ed97e24d2f4d09",
            "27644103d5494ac187d15adf853270d1",
            "235803e1dddf4aa1b94ad68fd519ffb4",
            "7927bf4c6741401eb31dfdae473672c4",
            "52c7d1d4d097411ca2d73ade145fc23e",
            "dc4e464d8c744c999e9102c10c93d048",
            "243b058b949648d48a49a3a0d86de563",
            "42eb904a12e64f38843f37ca614826fe",
            "5f789dda137e4e89bc5c0c8f14dbbd38",
            "c5b78846c9374567996b332bfbf0e851",
            "9c881a6c11b544f89018b3ed6eb71edf",
            "d63905ce173141cf9be6fc43f8de2613",
            "7a4828121ee94a8ca08ef65f3dc00147",
            "300fa601d0ab462a92c1eaadbd7d5c2b",
            "3c4e175a5ee9446481c152e9eca60f18",
            "97584546769548c781f680273e837596",
            "ec6d74f8b30c4bedbd6625a14360f780",
            "a702706f96e340e1802ba1dec9e65702",
            "7c70cc6048334d60a8e52c9435dbfca2",
            "23e3402590d3400ab94acbb10058d482",
            "a1d0b378045e4f2ab629ced4ca275df2",
            "36a431480f65429baf304e841f8eef74"
          ]
        }
      },
      "source": [
        "batchsize=128\n",
        "train = datasets.MNIST(root='../data/',train=True,download=True)\n",
        "test = datasets.MNIST(root='../data/',train=False,transform=transforms.Compose([transforms.ToTensor(),]))\n",
        "indices= np.random.choice(len(train.targets.numpy()), 2000, replace=False)\n",
        "indices_test= np.random.choice(len(test.targets.numpy()), 100, replace=False)"
      ],
      "execution_count": 43,
      "outputs": [
        {
          "output_type": "stream",
          "text": [
            "Downloading http://yann.lecun.com/exdb/mnist/train-images-idx3-ubyte.gz to ../data/MNIST/raw/train-images-idx3-ubyte.gz\n"
          ],
          "name": "stdout"
        },
        {
          "output_type": "display_data",
          "data": {
            "application/vnd.jupyter.widget-view+json": {
              "model_id": "030a255a03974ffb9b7fdadf2376c540",
              "version_minor": 0,
              "version_major": 2
            },
            "text/plain": [
              "HBox(children=(FloatProgress(value=1.0, bar_style='info', max=1.0), HTML(value='')))"
            ]
          },
          "metadata": {
            "tags": []
          }
        },
        {
          "output_type": "stream",
          "text": [
            "Extracting ../data/MNIST/raw/train-images-idx3-ubyte.gz to ../data/MNIST/raw\n",
            "Downloading http://yann.lecun.com/exdb/mnist/train-labels-idx1-ubyte.gz to ../data/MNIST/raw/train-labels-idx1-ubyte.gz\n"
          ],
          "name": "stdout"
        },
        {
          "output_type": "display_data",
          "data": {
            "application/vnd.jupyter.widget-view+json": {
              "model_id": "0d3d13bdbbcc4ecc871f38b63aae4210",
              "version_minor": 0,
              "version_major": 2
            },
            "text/plain": [
              "HBox(children=(FloatProgress(value=1.0, bar_style='info', max=1.0), HTML(value='')))"
            ]
          },
          "metadata": {
            "tags": []
          }
        },
        {
          "output_type": "stream",
          "text": [
            "Extracting ../data/MNIST/raw/train-labels-idx1-ubyte.gz to ../data/MNIST/raw\n",
            "Downloading http://yann.lecun.com/exdb/mnist/t10k-images-idx3-ubyte.gz to ../data/MNIST/raw/t10k-images-idx3-ubyte.gz\n"
          ],
          "name": "stdout"
        },
        {
          "output_type": "display_data",
          "data": {
            "application/vnd.jupyter.widget-view+json": {
              "model_id": "243b058b949648d48a49a3a0d86de563",
              "version_minor": 0,
              "version_major": 2
            },
            "text/plain": [
              "HBox(children=(FloatProgress(value=1.0, bar_style='info', max=1.0), HTML(value='')))"
            ]
          },
          "metadata": {
            "tags": []
          }
        },
        {
          "output_type": "stream",
          "text": [
            "Extracting ../data/MNIST/raw/t10k-images-idx3-ubyte.gz to ../data/MNIST/raw\n",
            "Downloading http://yann.lecun.com/exdb/mnist/t10k-labels-idx1-ubyte.gz to ../data/MNIST/raw/t10k-labels-idx1-ubyte.gz\n"
          ],
          "name": "stdout"
        },
        {
          "output_type": "display_data",
          "data": {
            "application/vnd.jupyter.widget-view+json": {
              "model_id": "3c4e175a5ee9446481c152e9eca60f18",
              "version_minor": 0,
              "version_major": 2
            },
            "text/plain": [
              "HBox(children=(FloatProgress(value=1.0, bar_style='info', max=1.0), HTML(value='')))"
            ]
          },
          "metadata": {
            "tags": []
          }
        },
        {
          "output_type": "stream",
          "text": [
            "Extracting ../data/MNIST/raw/t10k-labels-idx1-ubyte.gz to ../data/MNIST/raw\n",
            "Processing...\n",
            "Done!\n"
          ],
          "name": "stdout"
        }
      ]
    },
    {
      "cell_type": "code",
      "metadata": {
        "id": "nx9LGDAx-JHL"
      },
      "source": [
        "\n",
        "train_iter = create_iterator(train.data.numpy()[indices],train.targets.numpy()[indices],batchsize)\n",
        "test_iter = create_iterator(test.data.numpy()[indices_test],test.targets.numpy()[indices_test],batchsize)\n",
        "\n",
        "# call model\n",
        "model = SiameseNetwork()\n",
        "learning_rate = 0.01 # learning rate for optimization\n",
        "momentum = 0.9 # momentum\n",
        "\n",
        "# Loss and Optimizer\n",
        "criterion = contrastive_loss_function # we will use contrastive loss function as defined above\n",
        "optimizer = torch.optim.SGD(model.parameters(), lr=learning_rate,momentum=momentum)\n",
        "\n",
        "# creating a train loader, and a test loader.\n",
        "train_loader = torch.utils.data.DataLoader(train_iter,batch_size=batchsize, shuffle=True)\n",
        "test_loader = torch.utils.data.DataLoader(test,batch_size=batchsize, shuffle=True)"
      ],
      "execution_count": 45,
      "outputs": []
    },
    {
      "cell_type": "code",
      "metadata": {
        "id": "po4R4LeT-P6u",
        "outputId": "3179553c-0761-4ccc-b391-9ebbaeb5b9c5",
        "colab": {
          "base_uri": "https://localhost:8080/"
        }
      },
      "source": [
        "train_loss = []\n",
        "epochs =100\n",
        "for epoch in range(epochs):\n",
        "    for batch_idx, (x0, x1, labels) in enumerate(train_loader):\n",
        "        labels = labels.float()\n",
        "        x0, x1, labels = Variable(x0), Variable(x1), Variable(labels)\n",
        "        output1, output2 = model(x0, x1)\n",
        "        loss = criterion(output1, output2, labels)\n",
        "        optimizer.zero_grad()\n",
        "        loss.backward()\n",
        "        optimizer.step()\n",
        "        train_loss.append(loss.item())\n",
        "        if batch_idx % batchsize == 0:\n",
        "            print('Epoch: {} \\tLoss: {:.6f}'.format(epoch, loss.item()))"
      ],
      "execution_count": 46,
      "outputs": [
        {
          "output_type": "stream",
          "text": [
            "Epoch: 0 \tLoss: 0.296349\n",
            "Epoch: 1 \tLoss: 0.158482\n",
            "Epoch: 2 \tLoss: 0.116614\n",
            "Epoch: 3 \tLoss: 0.100043\n",
            "Epoch: 4 \tLoss: 0.081079\n",
            "Epoch: 5 \tLoss: 0.102815\n",
            "Epoch: 6 \tLoss: 0.079971\n",
            "Epoch: 7 \tLoss: 0.081676\n",
            "Epoch: 8 \tLoss: 0.066844\n",
            "Epoch: 9 \tLoss: 0.072002\n",
            "Epoch: 10 \tLoss: 0.055109\n",
            "Epoch: 11 \tLoss: 0.068287\n",
            "Epoch: 12 \tLoss: 0.053456\n",
            "Epoch: 13 \tLoss: 0.051234\n",
            "Epoch: 14 \tLoss: 0.047541\n",
            "Epoch: 15 \tLoss: 0.045960\n",
            "Epoch: 16 \tLoss: 0.043663\n",
            "Epoch: 17 \tLoss: 0.042646\n",
            "Epoch: 18 \tLoss: 0.044977\n",
            "Epoch: 19 \tLoss: 0.039377\n",
            "Epoch: 20 \tLoss: 0.044013\n",
            "Epoch: 21 \tLoss: 0.042212\n",
            "Epoch: 22 \tLoss: 0.033449\n",
            "Epoch: 23 \tLoss: 0.035547\n",
            "Epoch: 24 \tLoss: 0.038158\n",
            "Epoch: 25 \tLoss: 0.036395\n",
            "Epoch: 26 \tLoss: 0.024858\n",
            "Epoch: 27 \tLoss: 0.030776\n",
            "Epoch: 28 \tLoss: 0.020719\n",
            "Epoch: 29 \tLoss: 0.022757\n",
            "Epoch: 30 \tLoss: 0.024776\n",
            "Epoch: 31 \tLoss: 0.027542\n",
            "Epoch: 32 \tLoss: 0.017781\n",
            "Epoch: 33 \tLoss: 0.020484\n",
            "Epoch: 34 \tLoss: 0.020752\n",
            "Epoch: 35 \tLoss: 0.017847\n",
            "Epoch: 36 \tLoss: 0.014452\n",
            "Epoch: 37 \tLoss: 0.021394\n",
            "Epoch: 38 \tLoss: 0.014710\n",
            "Epoch: 39 \tLoss: 0.016956\n",
            "Epoch: 40 \tLoss: 0.018691\n",
            "Epoch: 41 \tLoss: 0.021185\n",
            "Epoch: 42 \tLoss: 0.013861\n",
            "Epoch: 43 \tLoss: 0.013330\n",
            "Epoch: 44 \tLoss: 0.012434\n",
            "Epoch: 45 \tLoss: 0.015379\n",
            "Epoch: 46 \tLoss: 0.014147\n",
            "Epoch: 47 \tLoss: 0.011974\n",
            "Epoch: 48 \tLoss: 0.015614\n",
            "Epoch: 49 \tLoss: 0.012556\n",
            "Epoch: 50 \tLoss: 0.009941\n",
            "Epoch: 51 \tLoss: 0.006790\n",
            "Epoch: 52 \tLoss: 0.010718\n",
            "Epoch: 53 \tLoss: 0.011313\n",
            "Epoch: 54 \tLoss: 0.009311\n",
            "Epoch: 55 \tLoss: 0.009400\n",
            "Epoch: 56 \tLoss: 0.012123\n",
            "Epoch: 57 \tLoss: 0.008052\n",
            "Epoch: 58 \tLoss: 0.007325\n",
            "Epoch: 59 \tLoss: 0.007586\n",
            "Epoch: 60 \tLoss: 0.006292\n",
            "Epoch: 61 \tLoss: 0.007162\n",
            "Epoch: 62 \tLoss: 0.007173\n",
            "Epoch: 63 \tLoss: 0.007316\n",
            "Epoch: 64 \tLoss: 0.008572\n",
            "Epoch: 65 \tLoss: 0.004951\n",
            "Epoch: 66 \tLoss: 0.005979\n",
            "Epoch: 67 \tLoss: 0.005436\n",
            "Epoch: 68 \tLoss: 0.005883\n",
            "Epoch: 69 \tLoss: 0.005367\n",
            "Epoch: 70 \tLoss: 0.006108\n",
            "Epoch: 71 \tLoss: 0.004808\n",
            "Epoch: 72 \tLoss: 0.006030\n",
            "Epoch: 73 \tLoss: 0.003751\n",
            "Epoch: 74 \tLoss: 0.004662\n",
            "Epoch: 75 \tLoss: 0.003813\n",
            "Epoch: 76 \tLoss: 0.003439\n",
            "Epoch: 77 \tLoss: 0.003686\n",
            "Epoch: 78 \tLoss: 0.004041\n",
            "Epoch: 79 \tLoss: 0.003754\n",
            "Epoch: 80 \tLoss: 0.004132\n",
            "Epoch: 81 \tLoss: 0.003728\n",
            "Epoch: 82 \tLoss: 0.004445\n",
            "Epoch: 83 \tLoss: 0.002433\n",
            "Epoch: 84 \tLoss: 0.003638\n",
            "Epoch: 85 \tLoss: 0.002959\n",
            "Epoch: 86 \tLoss: 0.004140\n",
            "Epoch: 87 \tLoss: 0.002989\n",
            "Epoch: 88 \tLoss: 0.003283\n",
            "Epoch: 89 \tLoss: 0.002328\n",
            "Epoch: 90 \tLoss: 0.002991\n",
            "Epoch: 91 \tLoss: 0.003327\n",
            "Epoch: 92 \tLoss: 0.002047\n",
            "Epoch: 93 \tLoss: 0.002002\n",
            "Epoch: 94 \tLoss: 0.002823\n",
            "Epoch: 95 \tLoss: 0.002686\n",
            "Epoch: 96 \tLoss: 0.002599\n",
            "Epoch: 97 \tLoss: 0.002417\n",
            "Epoch: 98 \tLoss: 0.002127\n",
            "Epoch: 99 \tLoss: 0.002389\n"
          ],
          "name": "stdout"
        }
      ]
    },
    {
      "cell_type": "code",
      "metadata": {
        "id": "C_Rqgaxf-YyR"
      },
      "source": [
        "def plot_loss(train_loss,name=\"train_loss.png\"):\n",
        "    plt.plot(train_loss, label=\"train loss\")\n",
        "    plt.legend()\n",
        "\n",
        "def plot_mnist(numpy_all, numpy_labels,name=\"./embeddings_plot.png\"):\n",
        "        c = ['#ff0000', '#ffff00', '#00ff00', '#00ffff', '#0000ff',\n",
        "             '#ff00ff', '#990000', '#999900', '#009900', '#009999']\n",
        "\n",
        "        for i in range(10):\n",
        "            f = numpy_all[np.where(numpy_labels == i)]\n",
        "            plt.plot(f[:, 0], f[:, 1], '.', c=c[i])\n",
        "        plt.legend(['0', '1', '2', '3', '4', '5', '6', '7', '8', '9'])\n",
        "        plt.savefig(name)"
      ],
      "execution_count": 47,
      "outputs": []
    },
    {
      "cell_type": "code",
      "metadata": {
        "id": "e8xOyZ_f-tM5",
        "outputId": "9e3e27a4-8f22-4132-f482-aa8638b89981",
        "colab": {
          "base_uri": "https://localhost:8080/",
          "height": 265
        }
      },
      "source": [
        "plot_loss(train_loss)"
      ],
      "execution_count": 48,
      "outputs": [
        {
          "output_type": "display_data",
          "data": {
            "image/png": "[encoded data removed]",
            "text/plain": [
              "<Figure size 432x288 with 1 Axes>"
            ]
          },
          "metadata": {
            "tags": [],
            "needs_background": "light"
          }
        }
      ]
    },
    {
      "cell_type": "code",
      "metadata": {
        "id": "pm8mGaok-vI8"
      },
      "source": [
        "def test_model(model):\n",
        "        model.eval()\n",
        "        all_ = []\n",
        "        all_labels = []\n",
        "        with torch.no_grad():\n",
        "            for batch_idx, (x, labels) in enumerate(test_loader):\n",
        "                x, labels = Variable(x), Variable(labels)\n",
        "                output = model.forward_once(x)\n",
        "                all_.extend(output.data.cpu().numpy().tolist())\n",
        "                all_labels.extend(labels.data.cpu().numpy().tolist())\n",
        "\n",
        "        numpy_all = np.array(all_)\n",
        "        numpy_labels = np.array(all_labels)\n",
        "        return numpy_all, numpy_labels\n",
        "\n",
        "def testing_plots(model):\n",
        "        dict_pickle={}\n",
        "        numpy_all, numpy_labels = test_model(model)\n",
        "        dict_pickle[\"numpy_all\"]=numpy_all\n",
        "        dict_pickle[\"numpy_labels\"]=numpy_labels\n",
        "        plot_mnist(numpy_all, numpy_labels)"
      ],
      "execution_count": 49,
      "outputs": []
    },
    {
      "cell_type": "code",
      "metadata": {
        "id": "ZaLVeN4a-xye",
        "outputId": "86ba15ba-8427-4b9c-fad6-4df4741d6036",
        "colab": {
          "base_uri": "https://localhost:8080/",
          "height": 265
        }
      },
      "source": [
        "testing_plots(model)"
      ],
      "execution_count": 50,
      "outputs": [
        {
          "output_type": "display_data",
          "data": {
            "image/png": "[encoded data removed]",
            "text/plain": [
              "<Figure size 432x288 with 1 Axes>"
            ]
          },
          "metadata": {
            "tags": [],
            "needs_background": "light"
          }
        }
      ]
    }
  ]
}