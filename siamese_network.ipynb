{
  "nbformat": 4,
  "nbformat_minor": 0,
  "metadata": {
    "colab": {
      "name": "siamese-network.ipynb",
      "provenance": [],
      "collapsed_sections": [],
      "authorship_tag": "ABX9TyNcmiP09J5n8sT6aOuOrmwD",
      "include_colab_link": true
    },
    "kernelspec": {
      "name": "python3",
      "display_name": "Python 3"
    },
    "accelerator": "GPU",
    "widgets": {
      "application/vnd.jupyter.widget-state+json": {
        "acca14a84cae4884b46f8aeeb1daf153": {
          "model_module": "@jupyter-widgets/controls",
          "model_name": "HBoxModel",
          "state": {
            "_view_name": "HBoxView",
            "_dom_classes": [],
            "_model_name": "HBoxModel",
            "_view_module": "@jupyter-widgets/controls",
            "_model_module_version": "1.5.0",
            "_view_count": null,
            "_view_module_version": "1.5.0",
            "box_style": "",
            "layout": "IPY_MODEL_dfd4a273ff2941369ac7d0da9103ee01",
            "_model_module": "@jupyter-widgets/controls",
            "children": [
              "IPY_MODEL_98c4c12219634d7aa0e764d11992051f",
              "IPY_MODEL_4e8b4e881e5448a6ae4a6ca15e9e3c9c"
            ]
          }
        },
        "dfd4a273ff2941369ac7d0da9103ee01": {
          "model_module": "@jupyter-widgets/base",
          "model_name": "LayoutModel",
          "state": {
            "_view_name": "LayoutView",
            "grid_template_rows": null,
            "right": null,
            "justify_content": null,
            "_view_module": "@jupyter-widgets/base",
            "overflow": null,
            "_model_module_version": "1.2.0",
            "_view_count": null,
            "flex_flow": null,
            "width": null,
            "min_width": null,
            "border": null,
            "align_items": null,
            "bottom": null,
            "_model_module": "@jupyter-widgets/base",
            "top": null,
            "grid_column": null,
            "overflow_y": null,
            "overflow_x": null,
            "grid_auto_flow": null,
            "grid_area": null,
            "grid_template_columns": null,
            "flex": null,
            "_model_name": "LayoutModel",
            "justify_items": null,
            "grid_row": null,
            "max_height": null,
            "align_content": null,
            "visibility": null,
            "align_self": null,
            "height": null,
            "min_height": null,
            "padding": null,
            "grid_auto_rows": null,
            "grid_gap": null,
            "max_width": null,
            "order": null,
            "_view_module_version": "1.2.0",
            "grid_template_areas": null,
            "object_position": null,
            "object_fit": null,
            "grid_auto_columns": null,
            "margin": null,
            "display": null,
            "left": null
          }
        },
        "98c4c12219634d7aa0e764d11992051f": {
          "model_module": "@jupyter-widgets/controls",
          "model_name": "FloatProgressModel",
          "state": {
            "_view_name": "ProgressView",
            "style": "IPY_MODEL_2f9c081739944bcdbcdcce4f7a7b6aae",
            "_dom_classes": [],
            "description": "",
            "_model_name": "FloatProgressModel",
            "bar_style": "info",
            "max": 1,
            "_view_module": "@jupyter-widgets/controls",
            "_model_module_version": "1.5.0",
            "value": 1,
            "_view_count": null,
            "_view_module_version": "1.5.0",
            "orientation": "horizontal",
            "min": 0,
            "description_tooltip": null,
            "_model_module": "@jupyter-widgets/controls",
            "layout": "IPY_MODEL_40e89e4c45874066ba084d4d8cbfd42f"
          }
        },
        "4e8b4e881e5448a6ae4a6ca15e9e3c9c": {
          "model_module": "@jupyter-widgets/controls",
          "model_name": "HTMLModel",
          "state": {
            "_view_name": "HTMLView",
            "style": "IPY_MODEL_59756f6e37924c119de0c009f08305e8",
            "_dom_classes": [],
            "description": "",
            "_model_name": "HTMLModel",
            "placeholder": "​",
            "_view_module": "@jupyter-widgets/controls",
            "_model_module_version": "1.5.0",
            "value": " 9920512/? [00:20&lt;00:00, 945375.56it/s]",
            "_view_count": null,
            "_view_module_version": "1.5.0",
            "description_tooltip": null,
            "_model_module": "@jupyter-widgets/controls",
            "layout": "IPY_MODEL_d26f9630e63449e49b49a0f88af2a1d2"
          }
        },
        "2f9c081739944bcdbcdcce4f7a7b6aae": {
          "model_module": "@jupyter-widgets/controls",
          "model_name": "ProgressStyleModel",
          "state": {
            "_view_name": "StyleView",
            "_model_name": "ProgressStyleModel",
            "description_width": "initial",
            "_view_module": "@jupyter-widgets/base",
            "_model_module_version": "1.5.0",
            "_view_count": null,
            "_view_module_version": "1.2.0",
            "bar_color": null,
            "_model_module": "@jupyter-widgets/controls"
          }
        },
        "40e89e4c45874066ba084d4d8cbfd42f": {
          "model_module": "@jupyter-widgets/base",
          "model_name": "LayoutModel",
          "state": {
            "_view_name": "LayoutView",
            "grid_template_rows": null,
            "right": null,
            "justify_content": null,
            "_view_module": "@jupyter-widgets/base",
            "overflow": null,
            "_model_module_version": "1.2.0",
            "_view_count": null,
            "flex_flow": null,
            "width": null,
            "min_width": null,
            "border": null,
            "align_items": null,
            "bottom": null,
            "_model_module": "@jupyter-widgets/base",
            "top": null,
            "grid_column": null,
            "overflow_y": null,
            "overflow_x": null,
            "grid_auto_flow": null,
            "grid_area": null,
            "grid_template_columns": null,
            "flex": null,
            "_model_name": "LayoutModel",
            "justify_items": null,
            "grid_row": null,
            "max_height": null,
            "align_content": null,
            "visibility": null,
            "align_self": null,
            "height": null,
            "min_height": null,
            "padding": null,
            "grid_auto_rows": null,
            "grid_gap": null,
            "max_width": null,
            "order": null,
            "_view_module_version": "1.2.0",
            "grid_template_areas": null,
            "object_position": null,
            "object_fit": null,
            "grid_auto_columns": null,
            "margin": null,
            "display": null,
            "left": null
          }
        },
        "59756f6e37924c119de0c009f08305e8": {
          "model_module": "@jupyter-widgets/controls",
          "model_name": "DescriptionStyleModel",
          "state": {
            "_view_name": "StyleView",
            "_model_name": "DescriptionStyleModel",
            "description_width": "",
            "_view_module": "@jupyter-widgets/base",
            "_model_module_version": "1.5.0",
            "_view_count": null,
            "_view_module_version": "1.2.0",
            "_model_module": "@jupyter-widgets/controls"
          }
        },
        "d26f9630e63449e49b49a0f88af2a1d2": {
          "model_module": "@jupyter-widgets/base",
          "model_name": "LayoutModel",
          "state": {
            "_view_name": "LayoutView",
            "grid_template_rows": null,
            "right": null,
            "justify_content": null,
            "_view_module": "@jupyter-widgets/base",
            "overflow": null,
            "_model_module_version": "1.2.0",
            "_view_count": null,
            "flex_flow": null,
            "width": null,
            "min_width": null,
            "border": null,
            "align_items": null,
            "bottom": null,
            "_model_module": "@jupyter-widgets/base",
            "top": null,
            "grid_column": null,
            "overflow_y": null,
            "overflow_x": null,
            "grid_auto_flow": null,
            "grid_area": null,
            "grid_template_columns": null,
            "flex": null,
            "_model_name": "LayoutModel",
            "justify_items": null,
            "grid_row": null,
            "max_height": null,
            "align_content": null,
            "visibility": null,
            "align_self": null,
            "height": null,
            "min_height": null,
            "padding": null,
            "grid_auto_rows": null,
            "grid_gap": null,
            "max_width": null,
            "order": null,
            "_view_module_version": "1.2.0",
            "grid_template_areas": null,
            "object_position": null,
            "object_fit": null,
            "grid_auto_columns": null,
            "margin": null,
            "display": null,
            "left": null
          }
        },
        "c960a27a92e747d183944630968a4aa5": {
          "model_module": "@jupyter-widgets/controls",
          "model_name": "HBoxModel",
          "state": {
            "_view_name": "HBoxView",
            "_dom_classes": [],
            "_model_name": "HBoxModel",
            "_view_module": "@jupyter-widgets/controls",
            "_model_module_version": "1.5.0",
            "_view_count": null,
            "_view_module_version": "1.5.0",
            "box_style": "",
            "layout": "IPY_MODEL_2292a1d4262d4f048e2ff9087b1332ff",
            "_model_module": "@jupyter-widgets/controls",
            "children": [
              "IPY_MODEL_cb8dde89bb7342f1b6101fa1fb5a176f",
              "IPY_MODEL_82a727ae97f54814bca07a87f07328e1"
            ]
          }
        },
        "2292a1d4262d4f048e2ff9087b1332ff": {
          "model_module": "@jupyter-widgets/base",
          "model_name": "LayoutModel",
          "state": {
            "_view_name": "LayoutView",
            "grid_template_rows": null,
            "right": null,
            "justify_content": null,
            "_view_module": "@jupyter-widgets/base",
            "overflow": null,
            "_model_module_version": "1.2.0",
            "_view_count": null,
            "flex_flow": null,
            "width": null,
            "min_width": null,
            "border": null,
            "align_items": null,
            "bottom": null,
            "_model_module": "@jupyter-widgets/base",
            "top": null,
            "grid_column": null,
            "overflow_y": null,
            "overflow_x": null,
            "grid_auto_flow": null,
            "grid_area": null,
            "grid_template_columns": null,
            "flex": null,
            "_model_name": "LayoutModel",
            "justify_items": null,
            "grid_row": null,
            "max_height": null,
            "align_content": null,
            "visibility": null,
            "align_self": null,
            "height": null,
            "min_height": null,
            "padding": null,
            "grid_auto_rows": null,
            "grid_gap": null,
            "max_width": null,
            "order": null,
            "_view_module_version": "1.2.0",
            "grid_template_areas": null,
            "object_position": null,
            "object_fit": null,
            "grid_auto_columns": null,
            "margin": null,
            "display": null,
            "left": null
          }
        },
        "cb8dde89bb7342f1b6101fa1fb5a176f": {
          "model_module": "@jupyter-widgets/controls",
          "model_name": "FloatProgressModel",
          "state": {
            "_view_name": "ProgressView",
            "style": "IPY_MODEL_5b39b683747a4c08b37378764f902a13",
            "_dom_classes": [],
            "description": "",
            "_model_name": "FloatProgressModel",
            "bar_style": "success",
            "max": 1,
            "_view_module": "@jupyter-widgets/controls",
            "_model_module_version": "1.5.0",
            "value": 1,
            "_view_count": null,
            "_view_module_version": "1.5.0",
            "orientation": "horizontal",
            "min": 0,
            "description_tooltip": null,
            "_model_module": "@jupyter-widgets/controls",
            "layout": "IPY_MODEL_67c0c7881b90407fa144f1fd410fbf5e"
          }
        },
        "82a727ae97f54814bca07a87f07328e1": {
          "model_module": "@jupyter-widgets/controls",
          "model_name": "HTMLModel",
          "state": {
            "_view_name": "HTMLView",
            "style": "IPY_MODEL_01cf6f0edac94a0fb1a090a301f52e59",
            "_dom_classes": [],
            "description": "",
            "_model_name": "HTMLModel",
            "placeholder": "​",
            "_view_module": "@jupyter-widgets/controls",
            "_model_module_version": "1.5.0",
            "value": " 32768/? [00:01&lt;00:00, 27021.10it/s]",
            "_view_count": null,
            "_view_module_version": "1.5.0",
            "description_tooltip": null,
            "_model_module": "@jupyter-widgets/controls",
            "layout": "IPY_MODEL_24ddfef2076b461f860fec1920dabe7d"
          }
        },
        "5b39b683747a4c08b37378764f902a13": {
          "model_module": "@jupyter-widgets/controls",
          "model_name": "ProgressStyleModel",
          "state": {
            "_view_name": "StyleView",
            "_model_name": "ProgressStyleModel",
            "description_width": "initial",
            "_view_module": "@jupyter-widgets/base",
            "_model_module_version": "1.5.0",
            "_view_count": null,
            "_view_module_version": "1.2.0",
            "bar_color": null,
            "_model_module": "@jupyter-widgets/controls"
          }
        },
        "67c0c7881b90407fa144f1fd410fbf5e": {
          "model_module": "@jupyter-widgets/base",
          "model_name": "LayoutModel",
          "state": {
            "_view_name": "LayoutView",
            "grid_template_rows": null,
            "right": null,
            "justify_content": null,
            "_view_module": "@jupyter-widgets/base",
            "overflow": null,
            "_model_module_version": "1.2.0",
            "_view_count": null,
            "flex_flow": null,
            "width": null,
            "min_width": null,
            "border": null,
            "align_items": null,
            "bottom": null,
            "_model_module": "@jupyter-widgets/base",
            "top": null,
            "grid_column": null,
            "overflow_y": null,
            "overflow_x": null,
            "grid_auto_flow": null,
            "grid_area": null,
            "grid_template_columns": null,
            "flex": null,
            "_model_name": "LayoutModel",
            "justify_items": null,
            "grid_row": null,
            "max_height": null,
            "align_content": null,
            "visibility": null,
            "align_self": null,
            "height": null,
            "min_height": null,
            "padding": null,
            "grid_auto_rows": null,
            "grid_gap": null,
            "max_width": null,
            "order": null,
            "_view_module_version": "1.2.0",
            "grid_template_areas": null,
            "object_position": null,
            "object_fit": null,
            "grid_auto_columns": null,
            "margin": null,
            "display": null,
            "left": null
          }
        },
        "01cf6f0edac94a0fb1a090a301f52e59": {
          "model_module": "@jupyter-widgets/controls",
          "model_name": "DescriptionStyleModel",
          "state": {
            "_view_name": "StyleView",
            "_model_name": "DescriptionStyleModel",
            "description_width": "",
            "_view_module": "@jupyter-widgets/base",
            "_model_module_version": "1.5.0",
            "_view_count": null,
            "_view_module_version": "1.2.0",
            "_model_module": "@jupyter-widgets/controls"
          }
        },
        "24ddfef2076b461f860fec1920dabe7d": {
          "model_module": "@jupyter-widgets/base",
          "model_name": "LayoutModel",
          "state": {
            "_view_name": "LayoutView",
            "grid_template_rows": null,
            "right": null,
            "justify_content": null,
            "_view_module": "@jupyter-widgets/base",
            "overflow": null,
            "_model_module_version": "1.2.0",
            "_view_count": null,
            "flex_flow": null,
            "width": null,
            "min_width": null,
            "border": null,
            "align_items": null,
            "bottom": null,
            "_model_module": "@jupyter-widgets/base",
            "top": null,
            "grid_column": null,
            "overflow_y": null,
            "overflow_x": null,
            "grid_auto_flow": null,
            "grid_area": null,
            "grid_template_columns": null,
            "flex": null,
            "_model_name": "LayoutModel",
            "justify_items": null,
            "grid_row": null,
            "max_height": null,
            "align_content": null,
            "visibility": null,
            "align_self": null,
            "height": null,
            "min_height": null,
            "padding": null,
            "grid_auto_rows": null,
            "grid_gap": null,
            "max_width": null,
            "order": null,
            "_view_module_version": "1.2.0",
            "grid_template_areas": null,
            "object_position": null,
            "object_fit": null,
            "grid_auto_columns": null,
            "margin": null,
            "display": null,
            "left": null
          }
        },
        "1f938a5a93784503a260769a91a8e241": {
          "model_module": "@jupyter-widgets/controls",
          "model_name": "HBoxModel",
          "state": {
            "_view_name": "HBoxView",
            "_dom_classes": [],
            "_model_name": "HBoxModel",
            "_view_module": "@jupyter-widgets/controls",
            "_model_module_version": "1.5.0",
            "_view_count": null,
            "_view_module_version": "1.5.0",
            "box_style": "",
            "layout": "IPY_MODEL_cc6b44a17d2f454fbbf27bae349473df",
            "_model_module": "@jupyter-widgets/controls",
            "children": [
              "IPY_MODEL_f63bf9477e9b4222a2976b8decb1c1bb",
              "IPY_MODEL_7ba31b4aafaa41dc82c17132971bbcd7"
            ]
          }
        },
        "cc6b44a17d2f454fbbf27bae349473df": {
          "model_module": "@jupyter-widgets/base",
          "model_name": "LayoutModel",
          "state": {
            "_view_name": "LayoutView",
            "grid_template_rows": null,
            "right": null,
            "justify_content": null,
            "_view_module": "@jupyter-widgets/base",
            "overflow": null,
            "_model_module_version": "1.2.0",
            "_view_count": null,
            "flex_flow": null,
            "width": null,
            "min_width": null,
            "border": null,
            "align_items": null,
            "bottom": null,
            "_model_module": "@jupyter-widgets/base",
            "top": null,
            "grid_column": null,
            "overflow_y": null,
            "overflow_x": null,
            "grid_auto_flow": null,
            "grid_area": null,
            "grid_template_columns": null,
            "flex": null,
            "_model_name": "LayoutModel",
            "justify_items": null,
            "grid_row": null,
            "max_height": null,
            "align_content": null,
            "visibility": null,
            "align_self": null,
            "height": null,
            "min_height": null,
            "padding": null,
            "grid_auto_rows": null,
            "grid_gap": null,
            "max_width": null,
            "order": null,
            "_view_module_version": "1.2.0",
            "grid_template_areas": null,
            "object_position": null,
            "object_fit": null,
            "grid_auto_columns": null,
            "margin": null,
            "display": null,
            "left": null
          }
        },
        "f63bf9477e9b4222a2976b8decb1c1bb": {
          "model_module": "@jupyter-widgets/controls",
          "model_name": "FloatProgressModel",
          "state": {
            "_view_name": "ProgressView",
            "style": "IPY_MODEL_c06639781a1b438c988f93f25ccbbf69",
            "_dom_classes": [],
            "description": "",
            "_model_name": "FloatProgressModel",
            "bar_style": "success",
            "max": 1,
            "_view_module": "@jupyter-widgets/controls",
            "_model_module_version": "1.5.0",
            "value": 1,
            "_view_count": null,
            "_view_module_version": "1.5.0",
            "orientation": "horizontal",
            "min": 0,
            "description_tooltip": null,
            "_model_module": "@jupyter-widgets/controls",
            "layout": "IPY_MODEL_c502135685134edb96ad6c469845c3dc"
          }
        },
        "7ba31b4aafaa41dc82c17132971bbcd7": {
          "model_module": "@jupyter-widgets/controls",
          "model_name": "HTMLModel",
          "state": {
            "_view_name": "HTMLView",
            "style": "IPY_MODEL_dd5240334cba4d3aadbbaeca2d2cdc78",
            "_dom_classes": [],
            "description": "",
            "_model_name": "HTMLModel",
            "placeholder": "​",
            "_view_module": "@jupyter-widgets/controls",
            "_model_module_version": "1.5.0",
            "value": " 1654784/? [00:00&lt;00:00, 1897927.86it/s]",
            "_view_count": null,
            "_view_module_version": "1.5.0",
            "description_tooltip": null,
            "_model_module": "@jupyter-widgets/controls",
            "layout": "IPY_MODEL_5e7d6bed1cac4f0fba97a0a5d8e05ef1"
          }
        },
        "c06639781a1b438c988f93f25ccbbf69": {
          "model_module": "@jupyter-widgets/controls",
          "model_name": "ProgressStyleModel",
          "state": {
            "_view_name": "StyleView",
            "_model_name": "ProgressStyleModel",
            "description_width": "initial",
            "_view_module": "@jupyter-widgets/base",
            "_model_module_version": "1.5.0",
            "_view_count": null,
            "_view_module_version": "1.2.0",
            "bar_color": null,
            "_model_module": "@jupyter-widgets/controls"
          }
        },
        "c502135685134edb96ad6c469845c3dc": {
          "model_module": "@jupyter-widgets/base",
          "model_name": "LayoutModel",
          "state": {
            "_view_name": "LayoutView",
            "grid_template_rows": null,
            "right": null,
            "justify_content": null,
            "_view_module": "@jupyter-widgets/base",
            "overflow": null,
            "_model_module_version": "1.2.0",
            "_view_count": null,
            "flex_flow": null,
            "width": null,
            "min_width": null,
            "border": null,
            "align_items": null,
            "bottom": null,
            "_model_module": "@jupyter-widgets/base",
            "top": null,
            "grid_column": null,
            "overflow_y": null,
            "overflow_x": null,
            "grid_auto_flow": null,
            "grid_area": null,
            "grid_template_columns": null,
            "flex": null,
            "_model_name": "LayoutModel",
            "justify_items": null,
            "grid_row": null,
            "max_height": null,
            "align_content": null,
            "visibility": null,
            "align_self": null,
            "height": null,
            "min_height": null,
            "padding": null,
            "grid_auto_rows": null,
            "grid_gap": null,
            "max_width": null,
            "order": null,
            "_view_module_version": "1.2.0",
            "grid_template_areas": null,
            "object_position": null,
            "object_fit": null,
            "grid_auto_columns": null,
            "margin": null,
            "display": null,
            "left": null
          }
        },
        "dd5240334cba4d3aadbbaeca2d2cdc78": {
          "model_module": "@jupyter-widgets/controls",
          "model_name": "DescriptionStyleModel",
          "state": {
            "_view_name": "StyleView",
            "_model_name": "DescriptionStyleModel",
            "description_width": "",
            "_view_module": "@jupyter-widgets/base",
            "_model_module_version": "1.5.0",
            "_view_count": null,
            "_view_module_version": "1.2.0",
            "_model_module": "@jupyter-widgets/controls"
          }
        },
        "5e7d6bed1cac4f0fba97a0a5d8e05ef1": {
          "model_module": "@jupyter-widgets/base",
          "model_name": "LayoutModel",
          "state": {
            "_view_name": "LayoutView",
            "grid_template_rows": null,
            "right": null,
            "justify_content": null,
            "_view_module": "@jupyter-widgets/base",
            "overflow": null,
            "_model_module_version": "1.2.0",
            "_view_count": null,
            "flex_flow": null,
            "width": null,
            "min_width": null,
            "border": null,
            "align_items": null,
            "bottom": null,
            "_model_module": "@jupyter-widgets/base",
            "top": null,
            "grid_column": null,
            "overflow_y": null,
            "overflow_x": null,
            "grid_auto_flow": null,
            "grid_area": null,
            "grid_template_columns": null,
            "flex": null,
            "_model_name": "LayoutModel",
            "justify_items": null,
            "grid_row": null,
            "max_height": null,
            "align_content": null,
            "visibility": null,
            "align_self": null,
            "height": null,
            "min_height": null,
            "padding": null,
            "grid_auto_rows": null,
            "grid_gap": null,
            "max_width": null,
            "order": null,
            "_view_module_version": "1.2.0",
            "grid_template_areas": null,
            "object_position": null,
            "object_fit": null,
            "grid_auto_columns": null,
            "margin": null,
            "display": null,
            "left": null
          }
        },
        "30de8d2f809744eb8d454db9b811d871": {
          "model_module": "@jupyter-widgets/controls",
          "model_name": "HBoxModel",
          "state": {
            "_view_name": "HBoxView",
            "_dom_classes": [],
            "_model_name": "HBoxModel",
            "_view_module": "@jupyter-widgets/controls",
            "_model_module_version": "1.5.0",
            "_view_count": null,
            "_view_module_version": "1.5.0",
            "box_style": "",
            "layout": "IPY_MODEL_1c377f542209446e892e42bbf5ed0816",
            "_model_module": "@jupyter-widgets/controls",
            "children": [
              "IPY_MODEL_a1c43d8ff6714ee5a0d086651c314572",
              "IPY_MODEL_eb2a9886a7974feeb10476cf68f9179b"
            ]
          }
        },
        "1c377f542209446e892e42bbf5ed0816": {
          "model_module": "@jupyter-widgets/base",
          "model_name": "LayoutModel",
          "state": {
            "_view_name": "LayoutView",
            "grid_template_rows": null,
            "right": null,
            "justify_content": null,
            "_view_module": "@jupyter-widgets/base",
            "overflow": null,
            "_model_module_version": "1.2.0",
            "_view_count": null,
            "flex_flow": null,
            "width": null,
            "min_width": null,
            "border": null,
            "align_items": null,
            "bottom": null,
            "_model_module": "@jupyter-widgets/base",
            "top": null,
            "grid_column": null,
            "overflow_y": null,
            "overflow_x": null,
            "grid_auto_flow": null,
            "grid_area": null,
            "grid_template_columns": null,
            "flex": null,
            "_model_name": "LayoutModel",
            "justify_items": null,
            "grid_row": null,
            "max_height": null,
            "align_content": null,
            "visibility": null,
            "align_self": null,
            "height": null,
            "min_height": null,
            "padding": null,
            "grid_auto_rows": null,
            "grid_gap": null,
            "max_width": null,
            "order": null,
            "_view_module_version": "1.2.0",
            "grid_template_areas": null,
            "object_position": null,
            "object_fit": null,
            "grid_auto_columns": null,
            "margin": null,
            "display": null,
            "left": null
          }
        },
        "a1c43d8ff6714ee5a0d086651c314572": {
          "model_module": "@jupyter-widgets/controls",
          "model_name": "FloatProgressModel",
          "state": {
            "_view_name": "ProgressView",
            "style": "IPY_MODEL_b9e3e07ec79d42aead1b40d541e2a5d7",
            "_dom_classes": [],
            "description": "  0%",
            "_model_name": "FloatProgressModel",
            "bar_style": "info",
            "max": 1,
            "_view_module": "@jupyter-widgets/controls",
            "_model_module_version": "1.5.0",
            "value": 0,
            "_view_count": null,
            "_view_module_version": "1.5.0",
            "orientation": "horizontal",
            "min": 0,
            "description_tooltip": null,
            "_model_module": "@jupyter-widgets/controls",
            "layout": "IPY_MODEL_9303451980014a8bb5f9e4d51b7e5df3"
          }
        },
        "eb2a9886a7974feeb10476cf68f9179b": {
          "model_module": "@jupyter-widgets/controls",
          "model_name": "HTMLModel",
          "state": {
            "_view_name": "HTMLView",
            "style": "IPY_MODEL_6a12bc51fe784f789562d326c4e847d3",
            "_dom_classes": [],
            "description": "",
            "_model_name": "HTMLModel",
            "placeholder": "​",
            "_view_module": "@jupyter-widgets/controls",
            "_model_module_version": "1.5.0",
            "value": " 0/4542 [00:00&lt;?, ?it/s]",
            "_view_count": null,
            "_view_module_version": "1.5.0",
            "description_tooltip": null,
            "_model_module": "@jupyter-widgets/controls",
            "layout": "IPY_MODEL_7e2c0c376fc04ef68e8a12e05d6b97e2"
          }
        },
        "b9e3e07ec79d42aead1b40d541e2a5d7": {
          "model_module": "@jupyter-widgets/controls",
          "model_name": "ProgressStyleModel",
          "state": {
            "_view_name": "StyleView",
            "_model_name": "ProgressStyleModel",
            "description_width": "initial",
            "_view_module": "@jupyter-widgets/base",
            "_model_module_version": "1.5.0",
            "_view_count": null,
            "_view_module_version": "1.2.0",
            "bar_color": null,
            "_model_module": "@jupyter-widgets/controls"
          }
        },
        "9303451980014a8bb5f9e4d51b7e5df3": {
          "model_module": "@jupyter-widgets/base",
          "model_name": "LayoutModel",
          "state": {
            "_view_name": "LayoutView",
            "grid_template_rows": null,
            "right": null,
            "justify_content": null,
            "_view_module": "@jupyter-widgets/base",
            "overflow": null,
            "_model_module_version": "1.2.0",
            "_view_count": null,
            "flex_flow": null,
            "width": null,
            "min_width": null,
            "border": null,
            "align_items": null,
            "bottom": null,
            "_model_module": "@jupyter-widgets/base",
            "top": null,
            "grid_column": null,
            "overflow_y": null,
            "overflow_x": null,
            "grid_auto_flow": null,
            "grid_area": null,
            "grid_template_columns": null,
            "flex": null,
            "_model_name": "LayoutModel",
            "justify_items": null,
            "grid_row": null,
            "max_height": null,
            "align_content": null,
            "visibility": null,
            "align_self": null,
            "height": null,
            "min_height": null,
            "padding": null,
            "grid_auto_rows": null,
            "grid_gap": null,
            "max_width": null,
            "order": null,
            "_view_module_version": "1.2.0",
            "grid_template_areas": null,
            "object_position": null,
            "object_fit": null,
            "grid_auto_columns": null,
            "margin": null,
            "display": null,
            "left": null
          }
        },
        "6a12bc51fe784f789562d326c4e847d3": {
          "model_module": "@jupyter-widgets/controls",
          "model_name": "DescriptionStyleModel",
          "state": {
            "_view_name": "StyleView",
            "_model_name": "DescriptionStyleModel",
            "description_width": "",
            "_view_module": "@jupyter-widgets/base",
            "_model_module_version": "1.5.0",
            "_view_count": null,
            "_view_module_version": "1.2.0",
            "_model_module": "@jupyter-widgets/controls"
          }
        },
        "7e2c0c376fc04ef68e8a12e05d6b97e2": {
          "model_module": "@jupyter-widgets/base",
          "model_name": "LayoutModel",
          "state": {
            "_view_name": "LayoutView",
            "grid_template_rows": null,
            "right": null,
            "justify_content": null,
            "_view_module": "@jupyter-widgets/base",
            "overflow": null,
            "_model_module_version": "1.2.0",
            "_view_count": null,
            "flex_flow": null,
            "width": null,
            "min_width": null,
            "border": null,
            "align_items": null,
            "bottom": null,
            "_model_module": "@jupyter-widgets/base",
            "top": null,
            "grid_column": null,
            "overflow_y": null,
            "overflow_x": null,
            "grid_auto_flow": null,
            "grid_area": null,
            "grid_template_columns": null,
            "flex": null,
            "_model_name": "LayoutModel",
            "justify_items": null,
            "grid_row": null,
            "max_height": null,
            "align_content": null,
            "visibility": null,
            "align_self": null,
            "height": null,
            "min_height": null,
            "padding": null,
            "grid_auto_rows": null,
            "grid_gap": null,
            "max_width": null,
            "order": null,
            "_view_module_version": "1.2.0",
            "grid_template_areas": null,
            "object_position": null,
            "object_fit": null,
            "grid_auto_columns": null,
            "margin": null,
            "display": null,
            "left": null
          }
        }
      }
    }
  },
  "cells": [
    {
      "cell_type": "markdown",
      "metadata": {
        "id": "view-in-github",
        "colab_type": "text"
      },
      "source": [
        "<a href=\"https://colab.research.google.com/github/rakesh4real/one-or-few-shot-learning/blob/main/siamese_network.ipynb\" target=\"_parent\"><img src=\"https://colab.research.google.com/assets/colab-badge.svg\" alt=\"Open In Colab\"/></a>"
      ]
    },
    {
      "cell_type": "code",
      "metadata": {
        "id": "lwwUWgDooB-S"
      },
      "source": [
        "import random, time, pickle, os\n",
        "import numpy as np\n",
        "import matplotlib.pyplot as plt   \n",
        "\n",
        "import torch\n",
        "import torch.nn as nn\n",
        "from torchvision import datasets\n",
        "from torch.autograd import Variable\n",
        "from torchvision import transforms"
      ],
      "execution_count": 1,
      "outputs": []
    },
    {
      "cell_type": "code",
      "metadata": {
        "id": "cb0msr6hD4V0"
      },
      "source": [
        "device = torch.device('cuda' if torch.cuda.is_available() else 'cpu')"
      ],
      "execution_count": 2,
      "outputs": []
    },
    {
      "cell_type": "code",
      "metadata": {
        "id": "0-HHyJXnfxOY",
        "outputId": "faf5bd5f-a55b-432d-f097-e5c7051da5e1",
        "colab": {
          "base_uri": "https://localhost:8080/"
        }
      },
      "source": [
        "def seed_everything(seed):\n",
        "    random.seed(seed)\n",
        "    os.environ[\"PYTHONHASHSEED\"] = str(seed)\n",
        "    np.random.seed(seed)\n",
        "    torch.manual_seed(seed)\n",
        "    torch.cuda.manual_seed(seed)\n",
        "    torch.backends.cudnn.deterministic = True\n",
        "    print('Seed is: ', seed)\n",
        "    \n",
        "    \n",
        "SEED = 123\n",
        "seed_everything(SEED)"
      ],
      "execution_count": 3,
      "outputs": [
        {
          "output_type": "stream",
          "text": [
            "Seed is:  123\n"
          ],
          "name": "stdout"
        }
      ]
    },
    {
      "cell_type": "markdown",
      "metadata": {
        "id": "zrU9xV6lJskb"
      },
      "source": [
        "# 1. Prepare Dataset"
      ]
    },
    {
      "cell_type": "markdown",
      "metadata": {
        "id": "D9PepqzpZmSZ"
      },
      "source": [
        "![image.png](data:image/png;base64,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)"
      ]
    },
    {
      "cell_type": "code",
      "metadata": {
        "id": "FJ47wuG_9On8"
      },
      "source": [
        "class DatasetIterator:\n",
        "    '''\n",
        "    Input: numpy values\n",
        "    Output: torch variables.\n",
        "    '''\n",
        "    def __init__(self, x0, x1, label):\n",
        "        self.size = label.shape[0] \n",
        "        self.x0 = torch.from_numpy(x0)\n",
        "        self.x1 = torch.from_numpy(x1)\n",
        "        self.label = torch.from_numpy(label)\n",
        "\n",
        "    def __getitem__(self, index):\n",
        "        return (self.x0[index],\n",
        "                self.x1[index],\n",
        "                self.label[index])\n",
        "\n",
        "    def __len__(self):\n",
        "        return self.size"
      ],
      "execution_count": 4,
      "outputs": []
    },
    {
      "cell_type": "code",
      "metadata": {
        "id": "17xnlbxb92UH"
      },
      "source": [
        "def create_pairs(data, digit_indices):\n",
        "    '''\n",
        "    input\n",
        "    -----\n",
        "      data: \n",
        "        xs (downsampled data)\n",
        "      digit_indices: \n",
        "        `n_classes` sized list. \n",
        "        Each idx corresponding to the actual class \n",
        "        label and the location of all those class \n",
        "        samples in whole dataset\n",
        "    '''\n",
        "    \n",
        "    x0_data = []\n",
        "    x1_data = []\n",
        "    label = []\n",
        "    \n",
        "    # downsample dataset to the size of class with least\n",
        "    # sample points. Cz, equal number of pairs must be formed.\n",
        "    n = min([len(digit_indices[d]) for d in range(10)]) - 1\n",
        "    \n",
        "    print('Downsample each class to: ', n, ' sample points')\n",
        "    print(f'Total pairs per label = {n}*10 = {n*10}')\n",
        "    print(f'Total similar and dissimilar combinations = 2*{n*10} = {2*n*10}')\n",
        "    print(\"\\n\\n\")\n",
        "\n",
        "    for d in range(10): # for all 10 classes\n",
        "        for i in range(n): \n",
        "            # 10*177\n",
        "\n",
        "            # similar pairs (y=1)\n",
        "            z1, z2 = digit_indices[d][i], digit_indices[d][i + 1]\n",
        "            x0_data.append(data[z1] / 255.) \n",
        "            x1_data.append(data[z2] / 255.) \n",
        "            label.append(1)\n",
        "            \n",
        "            # dissimilar pairs (y=2) [randomly]\n",
        "            inc = random.randrange(1, 10)\n",
        "            dn = (d + inc) % 10\n",
        "            z1, z2 = digit_indices[d][i], digit_indices[dn][i]\n",
        "            x0_data.append(data[z1] / 255.) \n",
        "            x1_data.append(data[z2] / 255.)\n",
        "            label.append(0)\n",
        "\n",
        "    x0_data = np.array(x0_data, dtype=np.float32)\n",
        "    x0_data = x0_data.reshape([-1, 1, 28, 28])\n",
        "    x1_data = np.array(x1_data, dtype=np.float32)\n",
        "    x1_data = x1_data.reshape([-1, 1, 28, 28])\n",
        "    label = np.array(label, dtype=np.int32)\n",
        "    return x0_data, x1_data, label"
      ],
      "execution_count": 5,
      "outputs": []
    },
    {
      "cell_type": "code",
      "metadata": {
        "id": "4GjKjQlO97ID"
      },
      "source": [
        "def create_iterator(data, label): \n",
        "    '''\n",
        "    input   : xs, label (i.e data, actual_labels)\n",
        "    output  : x0, x1, similar_or_not (iterator)\n",
        "    '''\n",
        "\n",
        "    digit_indices = [np.where(label == i)[0] for i in range(10)]\n",
        "    x0, x1, label = create_pairs(data, digit_indices)\n",
        "    return DatasetIterator(x0, x1, label)"
      ],
      "execution_count": 6,
      "outputs": []
    },
    {
      "cell_type": "code",
      "metadata": {
        "id": "W59XBvyq-FeI",
        "outputId": "e66463f7-4793-4b16-c2aa-cfe761128ca9",
        "colab": {
          "base_uri": "https://localhost:8080/",
          "height": 403,
          "referenced_widgets": [
            "acca14a84cae4884b46f8aeeb1daf153",
            "dfd4a273ff2941369ac7d0da9103ee01",
            "98c4c12219634d7aa0e764d11992051f",
            "4e8b4e881e5448a6ae4a6ca15e9e3c9c",
            "2f9c081739944bcdbcdcce4f7a7b6aae",
            "40e89e4c45874066ba084d4d8cbfd42f",
            "59756f6e37924c119de0c009f08305e8",
            "d26f9630e63449e49b49a0f88af2a1d2",
            "c960a27a92e747d183944630968a4aa5",
            "2292a1d4262d4f048e2ff9087b1332ff",
            "cb8dde89bb7342f1b6101fa1fb5a176f",
            "82a727ae97f54814bca07a87f07328e1",
            "5b39b683747a4c08b37378764f902a13",
            "67c0c7881b90407fa144f1fd410fbf5e",
            "01cf6f0edac94a0fb1a090a301f52e59",
            "24ddfef2076b461f860fec1920dabe7d",
            "1f938a5a93784503a260769a91a8e241",
            "cc6b44a17d2f454fbbf27bae349473df",
            "f63bf9477e9b4222a2976b8decb1c1bb",
            "7ba31b4aafaa41dc82c17132971bbcd7",
            "c06639781a1b438c988f93f25ccbbf69",
            "c502135685134edb96ad6c469845c3dc",
            "dd5240334cba4d3aadbbaeca2d2cdc78",
            "5e7d6bed1cac4f0fba97a0a5d8e05ef1",
            "30de8d2f809744eb8d454db9b811d871",
            "1c377f542209446e892e42bbf5ed0816",
            "a1c43d8ff6714ee5a0d086651c314572",
            "eb2a9886a7974feeb10476cf68f9179b",
            "b9e3e07ec79d42aead1b40d541e2a5d7",
            "9303451980014a8bb5f9e4d51b7e5df3",
            "6a12bc51fe784f789562d326c4e847d3",
            "7e2c0c376fc04ef68e8a12e05d6b97e2"
          ]
        }
      },
      "source": [
        "train_sample_size = 2000\n",
        "test_sample_size = 100\n",
        "\n",
        "train = datasets.MNIST(root='../data/',train=True,download=True)\n",
        "test = datasets.MNIST(root='../data/',train=False,transform=transforms.Compose([transforms.ToTensor(),]))\n",
        "\n",
        "indices_train= np.random.choice(len(train.targets.numpy()), train_sample_size, replace=False)\n",
        "indices_test= np.random.choice(len(test.targets.numpy()), test_sample_size, replace=False)"
      ],
      "execution_count": 7,
      "outputs": [
        {
          "output_type": "stream",
          "text": [
            "Downloading http://yann.lecun.com/exdb/mnist/train-images-idx3-ubyte.gz to ../data/MNIST/raw/train-images-idx3-ubyte.gz\n"
          ],
          "name": "stdout"
        },
        {
          "output_type": "display_data",
          "data": {
            "application/vnd.jupyter.widget-view+json": {
              "model_id": "acca14a84cae4884b46f8aeeb1daf153",
              "version_minor": 0,
              "version_major": 2
            },
            "text/plain": [
              "HBox(children=(FloatProgress(value=1.0, bar_style='info', max=1.0), HTML(value='')))"
            ]
          },
          "metadata": {
            "tags": []
          }
        },
        {
          "output_type": "stream",
          "text": [
            "Extracting ../data/MNIST/raw/train-images-idx3-ubyte.gz to ../data/MNIST/raw\n",
            "Downloading http://yann.lecun.com/exdb/mnist/train-labels-idx1-ubyte.gz to ../data/MNIST/raw/train-labels-idx1-ubyte.gz\n"
          ],
          "name": "stdout"
        },
        {
          "output_type": "display_data",
          "data": {
            "application/vnd.jupyter.widget-view+json": {
              "model_id": "c960a27a92e747d183944630968a4aa5",
              "version_minor": 0,
              "version_major": 2
            },
            "text/plain": [
              "HBox(children=(FloatProgress(value=1.0, bar_style='info', max=1.0), HTML(value='')))"
            ]
          },
          "metadata": {
            "tags": []
          }
        },
        {
          "output_type": "stream",
          "text": [
            "Extracting ../data/MNIST/raw/train-labels-idx1-ubyte.gz to ../data/MNIST/raw\n",
            "Downloading http://yann.lecun.com/exdb/mnist/t10k-images-idx3-ubyte.gz to ../data/MNIST/raw/t10k-images-idx3-ubyte.gz\n"
          ],
          "name": "stdout"
        },
        {
          "output_type": "display_data",
          "data": {
            "application/vnd.jupyter.widget-view+json": {
              "model_id": "1f938a5a93784503a260769a91a8e241",
              "version_minor": 0,
              "version_major": 2
            },
            "text/plain": [
              "HBox(children=(FloatProgress(value=1.0, bar_style='info', max=1.0), HTML(value='')))"
            ]
          },
          "metadata": {
            "tags": []
          }
        },
        {
          "output_type": "stream",
          "text": [
            "Extracting ../data/MNIST/raw/t10k-images-idx3-ubyte.gz to ../data/MNIST/raw\n",
            "Downloading http://yann.lecun.com/exdb/mnist/t10k-labels-idx1-ubyte.gz to ../data/MNIST/raw/t10k-labels-idx1-ubyte.gz\n",
            "\n",
            "\n"
          ],
          "name": "stdout"
        },
        {
          "output_type": "display_data",
          "data": {
            "application/vnd.jupyter.widget-view+json": {
              "model_id": "30de8d2f809744eb8d454db9b811d871",
              "version_minor": 0,
              "version_major": 2
            },
            "text/plain": [
              "HBox(children=(FloatProgress(value=1.0, bar_style='info', max=1.0), HTML(value='')))"
            ]
          },
          "metadata": {
            "tags": []
          }
        },
        {
          "output_type": "stream",
          "text": [
            "Extracting ../data/MNIST/raw/t10k-labels-idx1-ubyte.gz to ../data/MNIST/raw\n",
            "Processing...\n"
          ],
          "name": "stdout"
        },
        {
          "output_type": "stream",
          "text": [
            "/usr/local/lib/python3.6/dist-packages/torchvision/datasets/mnist.py:480: UserWarning: The given NumPy array is not writeable, and PyTorch does not support non-writeable tensors. This means you can write to the underlying (supposedly non-writeable) NumPy array using the tensor. You may want to copy the array to protect its data or make it writeable before converting it to a tensor. This type of warning will be suppressed for the rest of this program. (Triggered internally at  /pytorch/torch/csrc/utils/tensor_numpy.cpp:141.)\n",
            "  return torch.from_numpy(parsed.astype(m[2], copy=False)).view(*s)\n"
          ],
          "name": "stderr"
        },
        {
          "output_type": "stream",
          "text": [
            "Done!\n"
          ],
          "name": "stdout"
        }
      ]
    },
    {
      "cell_type": "code",
      "metadata": {
        "id": "N-ja8Wy5Fvom",
        "outputId": "8b23562c-af49-4d13-ea46-078f04de4153",
        "colab": {
          "base_uri": "https://localhost:8080/"
        }
      },
      "source": [
        "print('sampled train size: ', len(indices_train))\n",
        "print('sampled test size: ', len(indices_test))"
      ],
      "execution_count": 8,
      "outputs": [
        {
          "output_type": "stream",
          "text": [
            "sampled train size:  2000\n",
            "sampled test size:  100\n"
          ],
          "name": "stdout"
        }
      ]
    },
    {
      "cell_type": "code",
      "metadata": {
        "id": "nx9LGDAx-JHL",
        "outputId": "930cf444-adf3-4b9a-8cc7-9f259cf339ba",
        "colab": {
          "base_uri": "https://localhost:8080/"
        }
      },
      "source": [
        "train_iter = create_iterator(\n",
        "    train.data.numpy()[indices_train],\n",
        "    train.targets.numpy()[indices_train])\n",
        "\n",
        "test_iter = create_iterator(\n",
        "    test.data.numpy()[indices_test],\n",
        "    test.targets.numpy()[indices_test])"
      ],
      "execution_count": 9,
      "outputs": [
        {
          "output_type": "stream",
          "text": [
            "Downsample each class to:  177  sample points\n",
            "Total pairs per label = 177*10 = 1770\n",
            "Total similar and dissimilar combinations = 2*1770 = 3540\n",
            "\n",
            "\n",
            "\n",
            "Downsample each class to:  3  sample points\n",
            "Total pairs per label = 3*10 = 30\n",
            "Total similar and dissimilar combinations = 2*30 = 60\n",
            "\n",
            "\n",
            "\n"
          ],
          "name": "stdout"
        }
      ]
    },
    {
      "cell_type": "code",
      "metadata": {
        "id": "mHiXpMto9mzB",
        "outputId": "6becb6e9-4b1c-49c9-d240-4c3a4cca1fcb",
        "colab": {
          "base_uri": "https://localhost:8080/"
        }
      },
      "source": [
        "_x0, _x1, _y = next(iter(train_iter))\n",
        "\n",
        "print(\"pairs' shape: \", _x0.shape, _x1.shape)\n",
        "print('numeric label: ', _y) # binary classification\n",
        "\n",
        "print(\"\\n\")\n",
        "print('size of train iter: ', len(train_iter))\n",
        "print('size of test iter: ', len(test_iter))"
      ],
      "execution_count": 10,
      "outputs": [
        {
          "output_type": "stream",
          "text": [
            "pairs' shape:  torch.Size([1, 28, 28]) torch.Size([1, 28, 28])\n",
            "numeric label:  tensor(1, dtype=torch.int32)\n",
            "\n",
            "\n",
            "size of train iter:  3540\n",
            "size of test iter:  60\n"
          ],
          "name": "stdout"
        }
      ]
    },
    {
      "cell_type": "markdown",
      "metadata": {
        "id": "A77YwajJZKfa"
      },
      "source": [
        "## 2. Loss Function\n",
        "\n",
        "$\n",
        "\\text{Euc. Dist. b/w similar dissimilar pairs: }$\n",
        "\n",
        "$$ D = ||f(x_0) - f(x_1)||_2 = \\sqrt[2]{\\big[f(x_0) - f(x_1)\\big]^2} \n",
        " \\text{where $f$ is siamese network}$$\n",
        "\n",
        "- For similar pairs\n",
        "  - Minimize $D$. It must be **small**.\n",
        "  - Minimum possible value must be `0` (loss cannot be negative). So, use $max(0, D)$\n",
        "  - $D$ can be easily made $0$ by $ W \\rightarrow 0$. Avoid it by using margin. So, use $max(0, m-D)$ \n",
        "- For dissimilar pairs\n",
        "  - <strike>Maximize $D$ </strike>\n",
        "  - Behave like regression loss and learn features (minimize $D$)\n",
        "- Square whole $D$ term for penalisation of loss\n",
        "\n",
        "<br>\n",
        "$$\n",
        "L(x_0, x_1, y, \\theta) = \\begin{cases} \n",
        " \\bigg(max(0, \\, m-D)\\bigg)^2 & \\text{if similar i.e $y = 1$} \\\\  \n",
        " D^2 & \\text{if dissimilar i.e $y = 0$} \\\\  \n",
        " \\end{cases} \n",
        "$$\n",
        "\n",
        "To write both cases in single eqn, take halves from both cases\n",
        "\n",
        "$$\n",
        "L(x_0, x_1, y, \\theta) = \\frac{1}{2} (y) \\bigg(max(0, \\, m-D)\\bigg)^2 + \\frac{1}{2} (1-y) D^2\n",
        "$$\n",
        "\n",
        "**Disadvantages:**  \n",
        "\n",
        "- Not able to learn decision boundaries very clearly.\n",
        "- Need to configure hyperparam $m$\n",
        "- Triplet loss is better"
      ]
    },
    {
      "cell_type": "code",
      "metadata": {
        "id": "XHY3N79V99xk"
      },
      "source": [
        "def contrastive_loss_function(x0, x1, y, margin=1.0):\n",
        "    diff = x0 - x1 # euc. dist\n",
        "    dist_sq = torch.sum(torch.pow(diff, 2), 1) # D^2\n",
        "    D = torch.sqrt(dist_sq)\n",
        "\n",
        "    mdist = margin - D\n",
        "    dist = torch.clamp(mdist, min=0.0) \n",
        "    \n",
        "    loss = y * dist_sq + (1 - y) * torch.pow(dist, 2)\n",
        "    loss = torch.sum(loss) / 2.0 / x0.size()[0]\n",
        "    \n",
        "    return loss"
      ],
      "execution_count": 11,
      "outputs": []
    },
    {
      "cell_type": "markdown",
      "metadata": {
        "id": "QoMYVq4cZO7s"
      },
      "source": [
        "## 3. Siamese Network"
      ]
    },
    {
      "cell_type": "code",
      "metadata": {
        "id": "48YX_Wzz-Ciu"
      },
      "source": [
        "class SiameseNetwork(nn.Module):\n",
        "    def __init__(self):\n",
        "        super(SiameseNetwork, self).__init__()\n",
        "        self.cnn1 = nn.Sequential(\n",
        "            nn.Conv2d(1, 20, kernel_size=5),\n",
        "            nn.MaxPool2d(2, stride=2),\n",
        "            nn.Conv2d(20, 50, kernel_size=5),\n",
        "            nn.MaxPool2d(2, stride=2))\n",
        "        self.fc1 = nn.Sequential(\n",
        "            nn.Linear(50 * 4 * 4, 500),\n",
        "            nn.ReLU(inplace=True),\n",
        "            nn.Linear(500,10),\n",
        "            nn.Linear(10, 2))\n",
        "        \n",
        "    def forward_once(self, x):\n",
        "        output = self.cnn1(x)\n",
        "        output = output.view(output.size()[0], -1)\n",
        "        output = self.fc1(output)\n",
        "        return output\n",
        "\n",
        "    def forward(self, input1, input2):\n",
        "        output1 = self.forward_once(input1)\n",
        "        output2 = self.forward_once(input2)\n",
        "        return output1, output2"
      ],
      "execution_count": 12,
      "outputs": []
    },
    {
      "cell_type": "markdown",
      "metadata": {
        "id": "9iu54iMVZVit"
      },
      "source": [
        "## 4. Hyperparameters and training configuration"
      ]
    },
    {
      "cell_type": "code",
      "metadata": {
        "id": "8hm4QbuH9flt"
      },
      "source": [
        "# call model\n",
        "model = SiameseNetwork().to(device)\n",
        "lr = 0.01\n",
        "momentum = 0.9\n",
        "batchsize = 128\n",
        "\n",
        "# Loss and Optimizer\n",
        "criterion = contrastive_loss_function # we will use contrastive loss function as defined above\n",
        "optimizer = torch.optim.SGD(model.parameters(), lr=lr, momentum=momentum)\n",
        "\n",
        "# creating a train loader, and a test loader.\n",
        "# batchsize will reflect here\n",
        "train_loader = torch.utils.data.DataLoader(train_iter,batch_size=batchsize, shuffle=True)\n",
        "test_loader = torch.utils.data.DataLoader(test,batch_size=batchsize, shuffle=True)"
      ],
      "execution_count": 13,
      "outputs": []
    },
    {
      "cell_type": "code",
      "metadata": {
        "id": "UB4O0ADkmuRU",
        "outputId": "4f07fa28-75a1-4428-f229-2202f94fa53e",
        "colab": {
          "base_uri": "https://localhost:8080/"
        }
      },
      "source": [
        "_x0, _x1, _y = next(iter(train_loader))\n",
        "\n",
        "print(\"pairs' shape: \", _x0.shape, _x1.shape)\n",
        "print('labels of batch: ', _y)\n",
        "\n",
        "print(\"\\n\")\n",
        "print('size of train iter: ', len(train_iter))\n",
        "print('size of test iter: ', len(test_iter))\n",
        "\n",
        "# with batchsize"
      ],
      "execution_count": 14,
      "outputs": [
        {
          "output_type": "stream",
          "text": [
            "pairs' shape:  torch.Size([128, 1, 28, 28]) torch.Size([128, 1, 28, 28])\n",
            "labels of batch:  tensor([1, 0, 1, 1, 1, 0, 0, 1, 1, 1, 1, 0, 1, 0, 0, 0, 0, 1, 1, 0, 0, 0, 1, 0,\n",
            "        0, 1, 0, 0, 0, 0, 0, 1, 1, 0, 1, 0, 1, 1, 0, 0, 0, 0, 1, 1, 0, 0, 1, 1,\n",
            "        0, 1, 0, 0, 0, 1, 1, 1, 1, 0, 1, 0, 1, 1, 0, 1, 0, 0, 1, 1, 1, 1, 0, 1,\n",
            "        1, 1, 0, 1, 0, 0, 1, 1, 1, 0, 0, 1, 0, 0, 0, 0, 1, 0, 0, 1, 1, 1, 1, 1,\n",
            "        1, 1, 0, 1, 1, 1, 0, 0, 0, 0, 0, 0, 0, 0, 0, 0, 0, 1, 0, 1, 1, 0, 1, 0,\n",
            "        1, 1, 0, 1, 1, 0, 0, 0], dtype=torch.int32)\n",
            "\n",
            "\n",
            "size of train iter:  3540\n",
            "size of test iter:  60\n"
          ],
          "name": "stdout"
        }
      ]
    },
    {
      "cell_type": "markdown",
      "metadata": {
        "id": "54J-MoZ_ZgoN"
      },
      "source": [
        "## 5. Train"
      ]
    },
    {
      "cell_type": "code",
      "metadata": {
        "id": "po4R4LeT-P6u",
        "outputId": "4552487a-11c3-4cf7-8543-e421bb390a0f",
        "colab": {
          "base_uri": "https://localhost:8080/"
        }
      },
      "source": [
        "train_loss = []\n",
        "epochs =100\n",
        "for epoch in range(epochs):\n",
        "    for batch_idx, (x0, x1, labels) in enumerate(train_loader):\n",
        "        labels = labels.float().to(device)\n",
        "        x0, x1, labels = x0.to(device), x1.to(device), labels.to(device)\n",
        "        output1, output2 = model(x0, x1)\n",
        "        loss = criterion(output1, output2, labels)\n",
        "        optimizer.zero_grad()\n",
        "        loss.backward()\n",
        "        optimizer.step()\n",
        "        train_loss.append(loss.item())\n",
        "        if batch_idx % batchsize == 0:\n",
        "            print('Epoch: {} \\tLoss: {:.6f}'.format(epoch, loss.item()))"
      ],
      "execution_count": 15,
      "outputs": [
        {
          "output_type": "stream",
          "text": [
            "Epoch: 0 \tLoss: 0.225649\n",
            "Epoch: 1 \tLoss: 0.181692\n",
            "Epoch: 2 \tLoss: 0.113934\n",
            "Epoch: 3 \tLoss: 0.082056\n",
            "Epoch: 4 \tLoss: 0.069084\n",
            "Epoch: 5 \tLoss: 0.071780\n",
            "Epoch: 6 \tLoss: 0.066625\n",
            "Epoch: 7 \tLoss: 0.068588\n",
            "Epoch: 8 \tLoss: 0.064661\n",
            "Epoch: 9 \tLoss: 0.052253\n",
            "Epoch: 10 \tLoss: 0.061413\n",
            "Epoch: 11 \tLoss: 0.056016\n",
            "Epoch: 12 \tLoss: 0.047111\n",
            "Epoch: 13 \tLoss: 0.042304\n",
            "Epoch: 14 \tLoss: 0.047853\n",
            "Epoch: 15 \tLoss: 0.044545\n",
            "Epoch: 16 \tLoss: 0.045407\n",
            "Epoch: 17 \tLoss: 0.040212\n",
            "Epoch: 18 \tLoss: 0.045595\n",
            "Epoch: 19 \tLoss: 0.050634\n",
            "Epoch: 20 \tLoss: 0.037065\n",
            "Epoch: 21 \tLoss: 0.042055\n",
            "Epoch: 22 \tLoss: 0.040221\n",
            "Epoch: 23 \tLoss: 0.039594\n",
            "Epoch: 24 \tLoss: 0.037229\n",
            "Epoch: 25 \tLoss: 0.033244\n",
            "Epoch: 26 \tLoss: 0.041574\n",
            "Epoch: 27 \tLoss: 0.041400\n",
            "Epoch: 28 \tLoss: 0.030716\n",
            "Epoch: 29 \tLoss: 0.030134\n",
            "Epoch: 30 \tLoss: 0.034240\n",
            "Epoch: 31 \tLoss: 0.035196\n",
            "Epoch: 32 \tLoss: 0.032244\n",
            "Epoch: 33 \tLoss: 0.025658\n",
            "Epoch: 34 \tLoss: 0.021513\n",
            "Epoch: 35 \tLoss: 0.026811\n",
            "Epoch: 36 \tLoss: 0.031238\n",
            "Epoch: 37 \tLoss: 0.022408\n",
            "Epoch: 38 \tLoss: 0.031385\n",
            "Epoch: 39 \tLoss: 0.025816\n",
            "Epoch: 40 \tLoss: 0.021176\n",
            "Epoch: 41 \tLoss: 0.019756\n",
            "Epoch: 42 \tLoss: 0.018270\n",
            "Epoch: 43 \tLoss: 0.024638\n",
            "Epoch: 44 \tLoss: 0.018566\n",
            "Epoch: 45 \tLoss: 0.022277\n",
            "Epoch: 46 \tLoss: 0.019099\n",
            "Epoch: 47 \tLoss: 0.017374\n",
            "Epoch: 48 \tLoss: 0.016511\n",
            "Epoch: 49 \tLoss: 0.019229\n",
            "Epoch: 50 \tLoss: 0.014692\n",
            "Epoch: 51 \tLoss: 0.011739\n",
            "Epoch: 52 \tLoss: 0.020503\n",
            "Epoch: 53 \tLoss: 0.013962\n",
            "Epoch: 54 \tLoss: 0.012711\n",
            "Epoch: 55 \tLoss: 0.009595\n",
            "Epoch: 56 \tLoss: 0.013524\n",
            "Epoch: 57 \tLoss: 0.012426\n",
            "Epoch: 58 \tLoss: 0.009373\n",
            "Epoch: 59 \tLoss: 0.010975\n",
            "Epoch: 60 \tLoss: 0.008869\n",
            "Epoch: 61 \tLoss: 0.010458\n",
            "Epoch: 62 \tLoss: 0.011134\n",
            "Epoch: 63 \tLoss: 0.009275\n",
            "Epoch: 64 \tLoss: 0.008890\n",
            "Epoch: 65 \tLoss: 0.007690\n",
            "Epoch: 66 \tLoss: 0.013020\n",
            "Epoch: 67 \tLoss: 0.008307\n",
            "Epoch: 68 \tLoss: 0.007445\n",
            "Epoch: 69 \tLoss: 0.008162\n",
            "Epoch: 70 \tLoss: 0.009591\n",
            "Epoch: 71 \tLoss: 0.008379\n",
            "Epoch: 72 \tLoss: 0.008627\n",
            "Epoch: 73 \tLoss: 0.006217\n",
            "Epoch: 74 \tLoss: 0.008305\n",
            "Epoch: 75 \tLoss: 0.008222\n",
            "Epoch: 76 \tLoss: 0.007719\n",
            "Epoch: 77 \tLoss: 0.005147\n",
            "Epoch: 78 \tLoss: 0.006854\n",
            "Epoch: 79 \tLoss: 0.005919\n",
            "Epoch: 80 \tLoss: 0.007453\n",
            "Epoch: 81 \tLoss: 0.005043\n",
            "Epoch: 82 \tLoss: 0.004758\n",
            "Epoch: 83 \tLoss: 0.005133\n",
            "Epoch: 84 \tLoss: 0.005023\n",
            "Epoch: 85 \tLoss: 0.006014\n",
            "Epoch: 86 \tLoss: 0.004142\n",
            "Epoch: 87 \tLoss: 0.004423\n",
            "Epoch: 88 \tLoss: 0.004353\n",
            "Epoch: 89 \tLoss: 0.005221\n",
            "Epoch: 90 \tLoss: 0.004301\n",
            "Epoch: 91 \tLoss: 0.004702\n",
            "Epoch: 92 \tLoss: 0.004273\n",
            "Epoch: 93 \tLoss: 0.004355\n",
            "Epoch: 94 \tLoss: 0.003994\n",
            "Epoch: 95 \tLoss: 0.005978\n",
            "Epoch: 96 \tLoss: 0.002911\n",
            "Epoch: 97 \tLoss: 0.004543\n",
            "Epoch: 98 \tLoss: 0.002615\n",
            "Epoch: 99 \tLoss: 0.004274\n"
          ],
          "name": "stdout"
        }
      ]
    },
    {
      "cell_type": "code",
      "metadata": {
        "id": "C_Rqgaxf-YyR"
      },
      "source": [
        "def plot_loss(train_loss,name=\"train_loss.png\"):\n",
        "    plt.plot(train_loss, label=\"train loss\")\n",
        "    plt.legend()\n",
        "\n",
        "def plot_mnist(numpy_all, numpy_labels,name=\"./embeddings_plot.png\"):\n",
        "        c = ['#ff0000', '#ffff00', '#00ff00', '#00ffff', '#0000ff',\n",
        "             '#ff00ff', '#990000', '#999900', '#009900', '#009999']\n",
        "\n",
        "        for i in range(10):\n",
        "            f = numpy_all[np.where(numpy_labels == i)]\n",
        "            plt.plot(f[:, 0], f[:, 1], '.', c=c[i])\n",
        "        plt.legend(['0', '1', '2', '3', '4', '5', '6', '7', '8', '9'])\n",
        "        plt.savefig(name)"
      ],
      "execution_count": 16,
      "outputs": []
    },
    {
      "cell_type": "code",
      "metadata": {
        "id": "e8xOyZ_f-tM5",
        "outputId": "84362f46-85a3-4c9f-cacc-ec8490abb7bd",
        "colab": {
          "base_uri": "https://localhost:8080/",
          "height": 265
        }
      },
      "source": [
        "plot_loss(train_loss)"
      ],
      "execution_count": 17,
      "outputs": [
        {
          "output_type": "display_data",
          "data": {
            "image/png": "[encoded data removed]",
            "text/plain": [
              "<Figure size 432x288 with 1 Axes>"
            ]
          },
          "metadata": {
            "tags": [],
            "needs_background": "light"
          }
        }
      ]
    },
    {
      "cell_type": "code",
      "metadata": {
        "id": "pm8mGaok-vI8"
      },
      "source": [
        "def test_model(model):\n",
        "        model.eval()\n",
        "        all_ = []\n",
        "        all_labels = []\n",
        "        with torch.no_grad():\n",
        "            for batch_idx, (x, labels) in enumerate(test_loader):\n",
        "                x, labels = x.to(device), labels.to(device)\n",
        "                output = model.forward_once(x)\n",
        "                all_.extend(output.data.cpu().numpy().tolist())\n",
        "                all_labels.extend(labels.data.cpu().numpy().tolist())\n",
        "\n",
        "        numpy_all = np.array(all_)\n",
        "        numpy_labels = np.array(all_labels)\n",
        "        return numpy_all, numpy_labels\n",
        "\n",
        "def testing_plots(model):\n",
        "        dict_pickle={}\n",
        "        numpy_all, numpy_labels = test_model(model)\n",
        "        dict_pickle[\"numpy_all\"]=numpy_all\n",
        "        dict_pickle[\"numpy_labels\"]=numpy_labels\n",
        "        plot_mnist(numpy_all, numpy_labels)"
      ],
      "execution_count": 18,
      "outputs": []
    },
    {
      "cell_type": "code",
      "metadata": {
        "id": "ZaLVeN4a-xye",
        "outputId": "0452f20b-f9a3-4794-ae69-95d55a609706",
        "colab": {
          "base_uri": "https://localhost:8080/",
          "height": 265
        }
      },
      "source": [
        "testing_plots(model)"
      ],
      "execution_count": 19,
      "outputs": [
        {
          "output_type": "display_data",
          "data": {
            "image/png": "[encoded data removed]",
            "text/plain": [
              "<Figure size 432x288 with 1 Axes>"
            ]
          },
          "metadata": {
            "tags": [],
            "needs_background": "light"
          }
        }
      ]
    }
  ]
}